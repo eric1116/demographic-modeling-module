{
 "cells": [
  {
   "cell_type": "code",
   "execution_count": 1,
   "metadata": {},
   "outputs": [
    {
     "name": "stderr",
     "output_type": "stream",
     "text": [
      "../src\\dm\\_modify_geoaccessor.py:12: UserWarning: registration of accessor <class 'dm._modify_geoaccessor.GeoAccessorIO'> under name 'spatial' for type <class 'pandas.core.frame.DataFrame'> is overriding a preexistingattribute with the same name.\n",
      "  class GeoAccessorIO(GeoAccessor):\n"
     ]
    }
   ],
   "source": [
    "import sys\n",
    "\n",
    "sys.path.insert(0, '../src')\n",
    "import dm\n",
    "from dm._modify_geoaccessor import GeoAccessorIO"
   ]
  },
  {
   "cell_type": "code",
   "execution_count": 2,
   "metadata": {},
   "outputs": [
    {
     "data": {
      "text/html": [
       "<div>\n",
       "<style scoped>\n",
       "    .dataframe tbody tr th:only-of-type {\n",
       "        vertical-align: middle;\n",
       "    }\n",
       "\n",
       "    .dataframe tbody tr th {\n",
       "        vertical-align: top;\n",
       "    }\n",
       "\n",
       "    .dataframe thead th {\n",
       "        text-align: right;\n",
       "    }\n",
       "</style>\n",
       "<table border=\"1\" class=\"dataframe\">\n",
       "  <thead>\n",
       "    <tr style=\"text-align: right;\">\n",
       "      <th></th>\n",
       "      <th>name</th>\n",
       "      <th>alias</th>\n",
       "      <th>col_id</th>\n",
       "      <th>col_name</th>\n",
       "      <th>feature_class_path</th>\n",
       "    </tr>\n",
       "  </thead>\n",
       "  <tbody>\n",
       "    <tr>\n",
       "      <th>0</th>\n",
       "      <td>block_groups</td>\n",
       "      <td>Block Groups</td>\n",
       "      <td>ID</td>\n",
       "      <td>NAME</td>\n",
       "      <td>D:\\arcgis\\ba_data\\Data\\Demographic Data\\USA_ES...</td>\n",
       "    </tr>\n",
       "    <tr>\n",
       "      <th>1</th>\n",
       "      <td>census_tracts</td>\n",
       "      <td>Census Tracts</td>\n",
       "      <td>ID</td>\n",
       "      <td>NAME</td>\n",
       "      <td>D:\\arcgis\\ba_data\\Data\\Demographic Data\\USA_ES...</td>\n",
       "    </tr>\n",
       "    <tr>\n",
       "      <th>2</th>\n",
       "      <td>cities_and_towns_places</td>\n",
       "      <td>Cities and Towns (Places)</td>\n",
       "      <td>ID</td>\n",
       "      <td>NAME</td>\n",
       "      <td>D:\\arcgis\\ba_data\\Data\\Demographic Data\\USA_ES...</td>\n",
       "    </tr>\n",
       "    <tr>\n",
       "      <th>3</th>\n",
       "      <td>zip_codes</td>\n",
       "      <td>ZIP Codes</td>\n",
       "      <td>ID</td>\n",
       "      <td>NAME</td>\n",
       "      <td>D:\\arcgis\\ba_data\\Data\\Demographic Data\\USA_ES...</td>\n",
       "    </tr>\n",
       "    <tr>\n",
       "      <th>4</th>\n",
       "      <td>county_subdivisions</td>\n",
       "      <td>County Subdivisions</td>\n",
       "      <td>ID</td>\n",
       "      <td>NAME</td>\n",
       "      <td>D:\\arcgis\\ba_data\\Data\\Demographic Data\\USA_ES...</td>\n",
       "    </tr>\n",
       "    <tr>\n",
       "      <th>5</th>\n",
       "      <td>counties</td>\n",
       "      <td>Counties</td>\n",
       "      <td>ID</td>\n",
       "      <td>NAME</td>\n",
       "      <td>D:\\arcgis\\ba_data\\Data\\Demographic Data\\USA_ES...</td>\n",
       "    </tr>\n",
       "    <tr>\n",
       "      <th>6</th>\n",
       "      <td>cbsas</td>\n",
       "      <td>CBSAs</td>\n",
       "      <td>ID</td>\n",
       "      <td>NAME</td>\n",
       "      <td>D:\\arcgis\\ba_data\\Data\\Demographic Data\\USA_ES...</td>\n",
       "    </tr>\n",
       "    <tr>\n",
       "      <th>7</th>\n",
       "      <td>congressional_districts</td>\n",
       "      <td>Congressional Districts</td>\n",
       "      <td>ID</td>\n",
       "      <td>NAME</td>\n",
       "      <td>D:\\arcgis\\ba_data\\Data\\Demographic Data\\USA_ES...</td>\n",
       "    </tr>\n",
       "    <tr>\n",
       "      <th>8</th>\n",
       "      <td>dmas</td>\n",
       "      <td>DMAs</td>\n",
       "      <td>ID</td>\n",
       "      <td>NAME</td>\n",
       "      <td>D:\\arcgis\\ba_data\\Data\\Demographic Data\\USA_ES...</td>\n",
       "    </tr>\n",
       "    <tr>\n",
       "      <th>9</th>\n",
       "      <td>states</td>\n",
       "      <td>States</td>\n",
       "      <td>ID</td>\n",
       "      <td>NAME</td>\n",
       "      <td>D:\\arcgis\\ba_data\\Data\\Demographic Data\\USA_ES...</td>\n",
       "    </tr>\n",
       "    <tr>\n",
       "      <th>10</th>\n",
       "      <td>entire_country</td>\n",
       "      <td>Entire Country</td>\n",
       "      <td>ID</td>\n",
       "      <td>NAME</td>\n",
       "      <td>D:\\arcgis\\ba_data\\Data\\Demographic Data\\USA_ES...</td>\n",
       "    </tr>\n",
       "  </tbody>\n",
       "</table>\n",
       "</div>"
      ],
      "text/plain": [
       "                       name                      alias col_id col_name  \\\n",
       "0              block_groups               Block Groups     ID     NAME   \n",
       "1             census_tracts              Census Tracts     ID     NAME   \n",
       "2   cities_and_towns_places  Cities and Towns (Places)     ID     NAME   \n",
       "3                 zip_codes                  ZIP Codes     ID     NAME   \n",
       "4       county_subdivisions        County Subdivisions     ID     NAME   \n",
       "5                  counties                   Counties     ID     NAME   \n",
       "6                     cbsas                      CBSAs     ID     NAME   \n",
       "7   congressional_districts    Congressional Districts     ID     NAME   \n",
       "8                      dmas                       DMAs     ID     NAME   \n",
       "9                    states                     States     ID     NAME   \n",
       "10           entire_country             Entire Country     ID     NAME   \n",
       "\n",
       "                                   feature_class_path  \n",
       "0   D:\\arcgis\\ba_data\\Data\\Demographic Data\\USA_ES...  \n",
       "1   D:\\arcgis\\ba_data\\Data\\Demographic Data\\USA_ES...  \n",
       "2   D:\\arcgis\\ba_data\\Data\\Demographic Data\\USA_ES...  \n",
       "3   D:\\arcgis\\ba_data\\Data\\Demographic Data\\USA_ES...  \n",
       "4   D:\\arcgis\\ba_data\\Data\\Demographic Data\\USA_ES...  \n",
       "5   D:\\arcgis\\ba_data\\Data\\Demographic Data\\USA_ES...  \n",
       "6   D:\\arcgis\\ba_data\\Data\\Demographic Data\\USA_ES...  \n",
       "7   D:\\arcgis\\ba_data\\Data\\Demographic Data\\USA_ES...  \n",
       "8   D:\\arcgis\\ba_data\\Data\\Demographic Data\\USA_ES...  \n",
       "9   D:\\arcgis\\ba_data\\Data\\Demographic Data\\USA_ES...  \n",
       "10  D:\\arcgis\\ba_data\\Data\\Demographic Data\\USA_ES...  "
      ]
     },
     "execution_count": 2,
     "metadata": {},
     "output_type": "execute_result"
    }
   ],
   "source": [
    "usa = dm.Country('USA')\n",
    "usa.geographies"
   ]
  },
  {
   "cell_type": "code",
   "execution_count": null,
   "metadata": {},
   "outputs": [],
   "source": [
    "dma_df = usa.get_geography_local('dmas')\n",
    "\n",
    "dma_df.head()"
   ]
  },
  {
   "cell_type": "code",
   "execution_count": 5,
   "metadata": {},
   "outputs": [
    {
     "name": "stdout",
     "output_type": "stream",
     "text": [
      "<class 'pandas.core.frame.DataFrame'>\n",
      "RangeIndex: 210 entries, 0 to 209\n",
      "Data columns (total 3 columns):\n",
      " #   Column  Non-Null Count  Dtype   \n",
      "---  ------  --------------  -----   \n",
      " 0   ID      210 non-null    object  \n",
      " 1   NAME    210 non-null    object  \n",
      " 2   SHAPE   210 non-null    geometry\n",
      "dtypes: geometry(1), object(2)\n",
      "memory usage: 5.0+ KB\n"
     ]
    }
   ],
   "source": [
    "dma_df.info()"
   ]
  },
  {
   "cell_type": "code",
   "execution_count": 6,
   "metadata": {},
   "outputs": [
    {
     "ename": "AttributeError",
     "evalue": "'GeoAccessor' object has no attribute 'to_parquet'",
     "output_type": "error",
     "traceback": [
      "\u001b[1;31m---------------------------------------------------------------------------\u001b[0m",
      "\u001b[1;31mAttributeError\u001b[0m                            Traceback (most recent call last)",
      "\u001b[1;32m<ipython-input-6-7c4ac3821b15>\u001b[0m in \u001b[0;36m<module>\u001b[1;34m\u001b[0m\n\u001b[1;32m----> 1\u001b[1;33m \u001b[0mdma_df\u001b[0m\u001b[1;33m.\u001b[0m\u001b[0mspatial\u001b[0m\u001b[1;33m.\u001b[0m\u001b[0mto_parquet\u001b[0m\u001b[1;33m(\u001b[0m\u001b[1;34m'./dma.parquet'\u001b[0m\u001b[1;33m)\u001b[0m\u001b[1;33m\u001b[0m\u001b[1;33m\u001b[0m\u001b[0m\n\u001b[0m",
      "\u001b[1;31mAttributeError\u001b[0m: 'GeoAccessor' object has no attribute 'to_parquet'"
     ]
    }
   ],
   "source": [
    "dma_df.spatial.to_parquet('./dma.parquet')"
   ]
  },
  {
   "cell_type": "code",
   "execution_count": null,
   "metadata": {},
   "outputs": [],
   "source": []
  }
 ],
 "metadata": {
  "kernelspec": {
   "display_name": "Python 3",
   "language": "python",
   "name": "python3"
  },
  "language_info": {
   "codemirror_mode": {
    "name": "ipython",
    "version": 3
   },
   "file_extension": ".py",
   "mimetype": "text/x-python",
   "name": "python",
   "nbconvert_exporter": "python",
   "pygments_lexer": "ipython3",
   "version": "3.6.10"
  }
 },
 "nbformat": 4,
 "nbformat_minor": 4
}
