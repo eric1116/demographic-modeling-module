{
 "cells": [
  {
   "cell_type": "code",
   "execution_count": 1,
   "metadata": {},
   "outputs": [
    {
     "data": {
      "text/plain": [
       "True"
      ]
     },
     "execution_count": 1,
     "metadata": {},
     "output_type": "execute_result"
    }
   ],
   "source": [
    "import os\n",
    "import sys\n",
    "\n",
    "from arcgis import env\n",
    "from arcgis.gis import GIS\n",
    "from dotenv import load_dotenv, find_dotenv\n",
    "import requests\n",
    "\n",
    "sys.path.append('../src')\n",
    "import dm\n",
    "\n",
    "# load environment variables from .env\n",
    "load_dotenv(find_dotenv())"
   ]
  },
  {
   "cell_type": "code",
   "execution_count": 2,
   "metadata": {},
   "outputs": [
    {
     "data": {
      "text/plain": [
       "[]"
      ]
     },
     "execution_count": 2,
     "metadata": {},
     "output_type": "execute_result"
    }
   ],
   "source": [
    "var_dict = locals()\n",
    "[k for k in var_dict.keys() if isinstance(var_dict[k], dm.environment.Env)]"
   ]
  },
  {
   "cell_type": "code",
   "execution_count": 3,
   "metadata": {},
   "outputs": [
    {
     "data": {
      "text/plain": [
       "<property at 0x22010de1728>"
      ]
     },
     "execution_count": 3,
     "metadata": {},
     "output_type": "execute_result"
    }
   ],
   "source": [
    "src = dm.env.source\n",
    "src"
   ]
  },
  {
   "cell_type": "code",
   "execution_count": 4,
   "metadata": {},
   "outputs": [
    {
     "data": {
      "text/plain": [
       "<property at 0x22010de1728>"
      ]
     },
     "execution_count": 4,
     "metadata": {},
     "output_type": "execute_result"
    }
   ],
   "source": [
    "dm.environment.Env.source"
   ]
  },
  {
   "cell_type": "code",
   "execution_count": 60,
   "metadata": {},
   "outputs": [],
   "source": [
    "import requests\n",
    "import importlib\n",
    "\n",
    "\n",
    "class Enrich(object):\n",
    "    \n",
    "    _req_priv = req_priv = set([\n",
    "        'portal:publisher:publishFeatures',\n",
    "        'portal:user:createItem'\n",
    "    ])\n",
    "    \n",
    "    def __init__(self, source=None):\n",
    "        \n",
    "        # set the source, where enrichment is going to happen, either local or using a gis\n",
    "        if isinstance(source, GIS) or source is None:\n",
    "            \n",
    "            # if source is explicitly provided, use it, otherwise check if there is an active gis\n",
    "            self.source = gis if gis else env.active_gis\n",
    "            \n",
    "        elif source.lower() == 'local' and isinstance(source, str):\n",
    "            self.source = source.lower()\n",
    "\n",
    "        # check for an enrichment url\n",
    "        self.url = self.gis.properties.helperServices.geoenrichment.url\n",
    "\n",
    "        # flag if geoenrichment is configured\n",
    "        self.__enabled = None\n",
    "\n",
    "        # if the currently logged in user has privilages to enrich\n",
    "        self.user_able = True if self._req_priv.intersection(self.gis.users.me.privileges) else False\n",
    "    \n",
    "    @property\n",
    "    def available(self):\n",
    "        \"\"\"If the GIS enrich capablity is available.\"\"\"\n",
    "        if self.__enabled is None:\n",
    "            \n",
    "            try:\n",
    "                res = requests.head(self.enrich.url, timeout=9)\n",
    "                self.__enabled = True\n",
    "            except:\n",
    "                self.__enabled = False\n",
    "            \n",
    "        return self.__enabled\n",
    "            "
   ]
  },
  {
   "cell_type": "code",
   "execution_count": 1,
   "metadata": {},
   "outputs": [],
   "source": [
    "from ba_tools import data"
   ]
  },
  {
   "cell_type": "code",
   "execution_count": 11,
   "metadata": {},
   "outputs": [
    {
     "data": {
      "text/html": [
       "<div>\n",
       "<style scoped>\n",
       "    .dataframe tbody tr th:only-of-type {\n",
       "        vertical-align: middle;\n",
       "    }\n",
       "\n",
       "    .dataframe tbody tr th {\n",
       "        vertical-align: top;\n",
       "    }\n",
       "\n",
       "    .dataframe thead th {\n",
       "        text-align: right;\n",
       "    }\n",
       "</style>\n",
       "<table border=\"1\" class=\"dataframe\">\n",
       "  <thead>\n",
       "    <tr style=\"text-align: right;\">\n",
       "      <th></th>\n",
       "      <th>name</th>\n",
       "      <th>alias</th>\n",
       "      <th>collection_name</th>\n",
       "      <th>enrich_str</th>\n",
       "      <th>enrich_field_name</th>\n",
       "    </tr>\n",
       "  </thead>\n",
       "  <tbody>\n",
       "    <tr>\n",
       "      <th>0</th>\n",
       "      <td>AGE0_CY</td>\n",
       "      <td>2019 Population Age &lt;1</td>\n",
       "      <td>1yearincrements</td>\n",
       "      <td>1yearincrements.AGE0_CY</td>\n",
       "      <td>F1yearincrements_AGE0_CY</td>\n",
       "    </tr>\n",
       "    <tr>\n",
       "      <th>1</th>\n",
       "      <td>AGE1_CY</td>\n",
       "      <td>2019 Population Age 1</td>\n",
       "      <td>1yearincrements</td>\n",
       "      <td>1yearincrements.AGE1_CY</td>\n",
       "      <td>F1yearincrements_AGE1_CY</td>\n",
       "    </tr>\n",
       "    <tr>\n",
       "      <th>2</th>\n",
       "      <td>AGE2_CY</td>\n",
       "      <td>2019 Population Age 2</td>\n",
       "      <td>1yearincrements</td>\n",
       "      <td>1yearincrements.AGE2_CY</td>\n",
       "      <td>F1yearincrements_AGE2_CY</td>\n",
       "    </tr>\n",
       "    <tr>\n",
       "      <th>3</th>\n",
       "      <td>AGE3_CY</td>\n",
       "      <td>2019 Population Age 3</td>\n",
       "      <td>1yearincrements</td>\n",
       "      <td>1yearincrements.AGE3_CY</td>\n",
       "      <td>F1yearincrements_AGE3_CY</td>\n",
       "    </tr>\n",
       "    <tr>\n",
       "      <th>4</th>\n",
       "      <td>AGE4_CY</td>\n",
       "      <td>2019 Population Age 4</td>\n",
       "      <td>1yearincrements</td>\n",
       "      <td>1yearincrements.AGE4_CY</td>\n",
       "      <td>F1yearincrements_AGE4_CY</td>\n",
       "    </tr>\n",
       "    <tr>\n",
       "      <th>...</th>\n",
       "      <td>...</td>\n",
       "      <td>...</td>\n",
       "      <td>...</td>\n",
       "      <td>...</td>\n",
       "      <td>...</td>\n",
       "    </tr>\n",
       "    <tr>\n",
       "      <th>8211</th>\n",
       "      <td>ACSRMV1990</td>\n",
       "      <td>ACS RHHs/Moved In: 1990-1999</td>\n",
       "      <td>yearmovedin</td>\n",
       "      <td>yearmovedin.ACSRMV1990</td>\n",
       "      <td>yearmovedin_ACSRMV1990</td>\n",
       "    </tr>\n",
       "    <tr>\n",
       "      <th>8212</th>\n",
       "      <td>ACSRMV1980</td>\n",
       "      <td>ACS RHHs/Moved In: 1980-1989</td>\n",
       "      <td>yearmovedin</td>\n",
       "      <td>yearmovedin.ACSRMV1980</td>\n",
       "      <td>yearmovedin_ACSRMV1980</td>\n",
       "    </tr>\n",
       "    <tr>\n",
       "      <th>8213</th>\n",
       "      <td>ACSRMV1979</td>\n",
       "      <td>ACS RHHs/Moved In: 1979/Before</td>\n",
       "      <td>yearmovedin</td>\n",
       "      <td>yearmovedin.ACSRMV1979</td>\n",
       "      <td>yearmovedin_ACSRMV1979</td>\n",
       "    </tr>\n",
       "    <tr>\n",
       "      <th>8214</th>\n",
       "      <td>ACSMEDYRMV</td>\n",
       "      <td>ACS Median Year Householder Moved In</td>\n",
       "      <td>yearmovedin</td>\n",
       "      <td>yearmovedin.ACSMEDYRMV</td>\n",
       "      <td>yearmovedin_ACSMEDYRMV</td>\n",
       "    </tr>\n",
       "    <tr>\n",
       "      <th>8215</th>\n",
       "      <td>ACSOWNER</td>\n",
       "      <td>ACS Owner Households</td>\n",
       "      <td>yearmovedin</td>\n",
       "      <td>yearmovedin.ACSOWNER</td>\n",
       "      <td>yearmovedin_ACSOWNER</td>\n",
       "    </tr>\n",
       "  </tbody>\n",
       "</table>\n",
       "<p>8216 rows × 5 columns</p>\n",
       "</div>"
      ],
      "text/plain": [
       "            name                                 alias  ...               enrich_str         enrich_field_name\n",
       "0        AGE0_CY                2019 Population Age <1  ...  1yearincrements.AGE0_CY  F1yearincrements_AGE0_CY\n",
       "1        AGE1_CY                 2019 Population Age 1  ...  1yearincrements.AGE1_CY  F1yearincrements_AGE1_CY\n",
       "2        AGE2_CY                 2019 Population Age 2  ...  1yearincrements.AGE2_CY  F1yearincrements_AGE2_CY\n",
       "3        AGE3_CY                 2019 Population Age 3  ...  1yearincrements.AGE3_CY  F1yearincrements_AGE3_CY\n",
       "4        AGE4_CY                 2019 Population Age 4  ...  1yearincrements.AGE4_CY  F1yearincrements_AGE4_CY\n",
       "...          ...                                   ...  ...                      ...                       ...\n",
       "8211  ACSRMV1990          ACS RHHs/Moved In: 1990-1999  ...   yearmovedin.ACSRMV1990    yearmovedin_ACSRMV1990\n",
       "8212  ACSRMV1980          ACS RHHs/Moved In: 1980-1989  ...   yearmovedin.ACSRMV1980    yearmovedin_ACSRMV1980\n",
       "8213  ACSRMV1979        ACS RHHs/Moved In: 1979/Before  ...   yearmovedin.ACSRMV1979    yearmovedin_ACSRMV1979\n",
       "8214  ACSMEDYRMV  ACS Median Year Householder Moved In  ...   yearmovedin.ACSMEDYRMV    yearmovedin_ACSMEDYRMV\n",
       "8215    ACSOWNER                  ACS Owner Households  ...     yearmovedin.ACSOWNER      yearmovedin_ACSOWNER\n",
       "\n",
       "[8216 rows x 5 columns]"
      ]
     },
     "execution_count": 11,
     "metadata": {},
     "output_type": "execute_result"
    }
   ],
   "source": [
    "data.enrich_vars_dataframe"
   ]
  },
  {
   "cell_type": "code",
   "execution_count": null,
   "metadata": {},
   "outputs": [],
   "source": []
  }
 ],
 "metadata": {
  "kernelspec": {
   "display_name": "Python 3",
   "language": "python",
   "name": "python3"
  },
  "language_info": {
   "codemirror_mode": {
    "name": "ipython",
    "version": 3
   },
   "file_extension": ".py",
   "mimetype": "text/x-python",
   "name": "python",
   "nbconvert_exporter": "python",
   "pygments_lexer": "ipython3",
   "version": "3.6.10"
  }
 },
 "nbformat": 4,
 "nbformat_minor": 4
}
