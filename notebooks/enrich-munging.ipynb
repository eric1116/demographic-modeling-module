{
 "cells": [
  {
   "cell_type": "code",
   "execution_count": 1,
   "metadata": {},
   "outputs": [
    {
     "data": {
      "text/plain": [
       "True"
      ]
     },
     "execution_count": 1,
     "metadata": {},
     "output_type": "execute_result"
    }
   ],
   "source": [
    "import os\n",
    "import sys\n",
    "\n",
    "from arcgis import env\n",
    "from arcgis.gis import GIS\n",
    "from dotenv import load_dotenv, find_dotenv\n",
    "import requests\n",
    "\n",
    "sys.path.append('../src')\n",
    "import dm\n",
    "\n",
    "# load environment variables from .env\n",
    "load_dotenv(find_dotenv())"
   ]
  },
  {
   "cell_type": "code",
   "execution_count": 2,
   "metadata": {},
   "outputs": [
    {
     "data": {
      "text/plain": [
       "[]"
      ]
     },
     "execution_count": 2,
     "metadata": {},
     "output_type": "execute_result"
    }
   ],
   "source": [
    "var_dict = locals()\n",
    "[k for k in var_dict.keys() if isinstance(var_dict[k], dm.environment.Env)]"
   ]
  },
  {
   "cell_type": "code",
   "execution_count": 3,
   "metadata": {},
   "outputs": [
    {
     "data": {
      "text/plain": [
       "<property at 0x22010de1728>"
      ]
     },
     "execution_count": 3,
     "metadata": {},
     "output_type": "execute_result"
    }
   ],
   "source": [
    "src = dm.env.source\n",
    "src"
   ]
  },
  {
   "cell_type": "code",
   "execution_count": 4,
   "metadata": {},
   "outputs": [
    {
     "data": {
      "text/plain": [
       "<property at 0x22010de1728>"
      ]
     },
     "execution_count": 4,
     "metadata": {},
     "output_type": "execute_result"
    }
   ],
   "source": [
    "dm.environment.Env.source"
   ]
  },
  {
   "cell_type": "code",
   "execution_count": 60,
   "metadata": {},
   "outputs": [],
   "source": [
    "import requests\n",
    "import importlib\n",
    "\n",
    "\n",
    "class Enrich(object):\n",
    "    \n",
    "    _req_priv = req_priv = set([\n",
    "        'portal:publisher:publishFeatures',\n",
    "        'portal:user:createItem'\n",
    "    ])\n",
    "    \n",
    "    def __init__(self, source=None):\n",
    "        \n",
    "        # set the source, where enrichment is going to happen, either local or using a gis\n",
    "        if isinstance(source, GIS) or source is None:\n",
    "            \n",
    "            # if source is explicitly provided, use it, otherwise check if there is an active gis\n",
    "            self.source = gis if gis else env.active_gis\n",
    "            \n",
    "        elif source.lower() == 'local' and isinstance(source, str):\n",
    "            self.source = source.lower()\n",
    "\n",
    "        # check for an enrichment url\n",
    "        self.url = self.gis.properties.helperServices.geoenrichment.url\n",
    "\n",
    "        # flag if geoenrichment is configured\n",
    "        self.__enabled = None\n",
    "\n",
    "        # if the currently logged in user has privilages to enrich\n",
    "        self.user_able = True if self._req_priv.intersection(self.gis.users.me.privileges) else False\n",
    "    \n",
    "    @property\n",
    "    def available(self):\n",
    "        \"\"\"If the GIS enrich capablity is available.\"\"\"\n",
    "        if self.__enabled is None:\n",
    "            \n",
    "            try:\n",
    "                res = requests.head(self.enrich.url, timeout=9)\n",
    "                self.__enabled = True\n",
    "            except:\n",
    "                self.__enabled = False\n",
    "            \n",
    "        return self.__enabled\n",
    "            "
   ]
  },
  {
   "cell_type": "code",
   "execution_count": 18,
   "metadata": {},
   "outputs": [],
   "source": [
    "class Foo(object):\n",
    "    def __init__(self, bar='default'):\n",
    "        self.bar = bar\n",
    "\n",
    "    @property\n",
    "    def bar(self):\n",
    "        return self._bar\n",
    "\n",
    "    @bar.setter\n",
    "    def bar(self, value):\n",
    "        print(f'setting bar as {value}')\n",
    "        self._bar = value"
   ]
  },
  {
   "cell_type": "code",
   "execution_count": 19,
   "metadata": {},
   "outputs": [
    {
     "name": "stdout",
     "output_type": "stream",
     "text": [
      "setting bar as default\n"
     ]
    }
   ],
   "source": [
    "f = Foo()"
   ]
  },
  {
   "cell_type": "code",
   "execution_count": 17,
   "metadata": {},
   "outputs": [
    {
     "name": "stdout",
     "output_type": "stream",
     "text": [
      "setting bar as twillo\n"
     ]
    }
   ],
   "source": [
    "f.bar = 'twillo'"
   ]
  },
  {
   "cell_type": "code",
   "execution_count": 9,
   "metadata": {},
   "outputs": [
    {
     "data": {
      "text/plain": [
       "'twillo'"
      ]
     },
     "execution_count": 9,
     "metadata": {},
     "output_type": "execute_result"
    }
   ],
   "source": [
    "f.bar"
   ]
  },
  {
   "cell_type": "code",
   "execution_count": null,
   "metadata": {},
   "outputs": [],
   "source": []
  }
 ],
 "metadata": {
  "kernelspec": {
   "display_name": "Python 3",
   "language": "python",
   "name": "python3"
  },
  "language_info": {
   "codemirror_mode": {
    "name": "ipython",
    "version": 3
   },
   "file_extension": ".py",
   "mimetype": "text/x-python",
   "name": "python",
   "nbconvert_exporter": "python",
   "pygments_lexer": "ipython3",
   "version": "3.6.10"
  }
 },
 "nbformat": 4,
 "nbformat_minor": 4
}
