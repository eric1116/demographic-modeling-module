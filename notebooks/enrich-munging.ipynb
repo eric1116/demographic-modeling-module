{
 "cells": [
  {
   "cell_type": "code",
   "execution_count": 1,
   "metadata": {},
   "outputs": [],
   "source": [
    "import sys\n",
    "\n",
    "import pandas as pd\n",
    "from pathlib import Path"
   ]
  },
  {
   "cell_type": "code",
   "execution_count": 2,
   "metadata": {},
   "outputs": [
    {
     "data": {
      "text/plain": [
       "True"
      ]
     },
     "execution_count": 2,
     "metadata": {},
     "output_type": "execute_result"
    }
   ],
   "source": [
    "project_parent = Path('./').absolute().parent\n",
    "src_pth = project_parent/'src'\n",
    "\n",
    "src_pth.exists()"
   ]
  },
  {
   "cell_type": "code",
   "execution_count": 3,
   "metadata": {},
   "outputs": [],
   "source": [
    "# import the project package from the project package path\n",
    "# ideally will be imported using 'from arcgis import da'\n",
    "sys.path.insert(0, str(src_pth))"
   ]
  },
  {
   "cell_type": "code",
   "execution_count": 4,
   "metadata": {},
   "outputs": [
    {
     "name": "stderr",
     "output_type": "stream",
     "text": [
      "D:\\projects\\demographic-modeling-module\\src\\dm\\_modify_geoaccessor.py:31: UserWarning: registration of accessor <class 'dm._modify_geoaccessor.GeoAccessorIO'> under name 'spatial' for type <class 'pandas.core.frame.DataFrame'> is overriding a preexistingattribute with the same name.\n",
      "  class GeoAccessorIO(GeoAccessor):\n"
     ]
    }
   ],
   "source": [
    "import dm\n",
    "\n",
    "# load the \"autoreload\" extension so as you change code in src, it gets reloaded\n",
    "%load_ext autoreload\n",
    "%autoreload 2"
   ]
  },
  {
   "cell_type": "code",
   "execution_count": 5,
   "metadata": {},
   "outputs": [],
   "source": [
    "usa = dm.Country('USA')"
   ]
  },
  {
   "cell_type": "code",
   "execution_count": 6,
   "metadata": {},
   "outputs": [
    {
     "data": {
      "text/plain": [
       "6450     KeyUSFacts.TOTPOP_CY\n",
       "6452      KeyUSFacts.GQPOP_CY\n",
       "6453    KeyUSFacts.DIVINDX_CY\n",
       "6456      KeyUSFacts.TOTHH_CY\n",
       "6458    KeyUSFacts.AVGHHSZ_CY\n",
       "6459    KeyUSFacts.MEDHINC_CY\n",
       "6461    KeyUSFacts.AVGHINC_CY\n",
       "6463        KeyUSFacts.PCI_CY\n",
       "6467      KeyUSFacts.TOTHU_CY\n",
       "6469      KeyUSFacts.OWNER_CY\n",
       "6471     KeyUSFacts.RENTER_CY\n",
       "6473     KeyUSFacts.VACANT_CY\n",
       "6475     KeyUSFacts.MEDVAL_CY\n",
       "6477     KeyUSFacts.AVGVAL_CY\n",
       "6479    KeyUSFacts.POPGRW10CY\n",
       "6480     KeyUSFacts.HHGRW10CY\n",
       "6481    KeyUSFacts.FAMGRW10CY\n",
       "6487       KeyUSFacts.DPOP_CY\n",
       "6488    KeyUSFacts.DPOPWRK_CY\n",
       "6489    KeyUSFacts.DPOPRES_CY\n",
       "Name: enrich_str, dtype: object"
      ]
     },
     "execution_count": 6,
     "metadata": {},
     "output_type": "execute_result"
    }
   ],
   "source": [
    "enrich_vars = usa.enrich_variables[(usa.enrich_variables.data_collection == 'KeyUSFacts') & (usa.enrich_variables.vintage == '2019')].enrich_str\n",
    "\n",
    "enrich_vars"
   ]
  },
  {
   "cell_type": "code",
   "execution_count": 8,
   "metadata": {},
   "outputs": [
    {
     "name": "stdout",
     "output_type": "stream",
     "text": [
      "<class 'pandas.core.frame.DataFrame'>\n",
      "RangeIndex: 2474 entries, 0 to 2473\n",
      "Data columns (total 23 columns):\n",
      " #   Column                 Non-Null Count  Dtype   \n",
      "---  ------                 --------------  -----   \n",
      " 0   ID                     2474 non-null   object  \n",
      " 1   NAME                   2474 non-null   object  \n",
      " 2   KeyUSFacts_TOTPOP_CY   2474 non-null   float64 \n",
      " 3   KeyUSFacts_GQPOP_CY    2474 non-null   float64 \n",
      " 4   KeyUSFacts_DIVINDX_CY  2474 non-null   float64 \n",
      " 5   KeyUSFacts_TOTHH_CY    2474 non-null   float64 \n",
      " 6   KeyUSFacts_AVGHHSZ_CY  2474 non-null   float64 \n",
      " 7   KeyUSFacts_MEDHINC_CY  2474 non-null   float64 \n",
      " 8   KeyUSFacts_AVGHINC_CY  2474 non-null   float64 \n",
      " 9   KeyUSFacts_PCI_CY      2474 non-null   float64 \n",
      " 10  KeyUSFacts_TOTHU_CY    2474 non-null   float64 \n",
      " 11  KeyUSFacts_OWNER_CY    2474 non-null   float64 \n",
      " 12  KeyUSFacts_RENTER_CY   2474 non-null   float64 \n",
      " 13  KeyUSFacts_VACANT_CY   2474 non-null   float64 \n",
      " 14  KeyUSFacts_MEDVAL_CY   2474 non-null   float64 \n",
      " 15  KeyUSFacts_AVGVAL_CY   2474 non-null   float64 \n",
      " 16  KeyUSFacts_POPGRW10CY  2474 non-null   float64 \n",
      " 17  KeyUSFacts_HHGRW10CY   2474 non-null   float64 \n",
      " 18  KeyUSFacts_FAMGRW10CY  2474 non-null   float64 \n",
      " 19  KeyUSFacts_DPOP_CY     2474 non-null   float64 \n",
      " 20  KeyUSFacts_DPOPWRK_CY  2474 non-null   float64 \n",
      " 21  KeyUSFacts_DPOPRES_CY  2474 non-null   float64 \n",
      " 22  SHAPE                  2474 non-null   geometry\n",
      "dtypes: float64(20), geometry(1), object(2)\n",
      "memory usage: 444.7+ KB\n",
      "Wall time: 17.7 s\n"
     ]
    }
   ],
   "source": [
    "%%time\n",
    "bg_enrich_df = usa.cbsas.get('seattle').level(0).get().spatial.enrich(enrich_vars)\n",
    "\n",
    "bg_enrich_df.info()"
   ]
  },
  {
   "cell_type": "code",
   "execution_count": null,
   "metadata": {},
   "outputs": [],
   "source": []
  }
 ],
 "metadata": {
  "kernelspec": {
   "display_name": "Python 3",
   "language": "python",
   "name": "python3"
  },
  "language_info": {
   "codemirror_mode": {
    "name": "ipython",
    "version": 3
   },
   "file_extension": ".py",
   "mimetype": "text/x-python",
   "name": "python",
   "nbconvert_exporter": "python",
   "pygments_lexer": "ipython3",
   "version": "3.6.10"
  }
 },
 "nbformat": 4,
 "nbformat_minor": 4
}
