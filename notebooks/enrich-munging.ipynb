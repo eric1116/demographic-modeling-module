{
 "cells": [
  {
   "cell_type": "code",
   "execution_count": 46,
   "metadata": {},
   "outputs": [],
   "source": [
    "import os\n",
    "import sys\n",
    "\n",
    "from arcgis import env\n",
    "from arcgis.gis import GIS\n",
    "import arcpy\n",
    "from dotenv import load_dotenv, find_dotenv\n",
    "import requests\n",
    "\n",
    "sys.path.append('../src')\n",
    "import dm\n",
    "\n",
    "# load environment variables from .env\n",
    "load_dotenv(find_dotenv())\n",
    "\n",
    "import os.path\n",
    "from pathlib import Path\n",
    "import sys\n",
    "\n",
    "from arcgis.gis import GIS\n",
    "import arcpy\n",
    "import pandas as pd\n",
    "\n",
    "sys.path.insert(0, os.path.abspath('../'))\n",
    "from dm import Country\n",
    "from dm._registry import get_ba_key_value"
   ]
  },
  {
   "cell_type": "code",
   "execution_count": 47,
   "metadata": {},
   "outputs": [
    {
     "data": {
      "text/html": [
       "<h2>Output</h2><table><tr><th>id</th><th>value</th></tr><tr><td>0</td><td>a Layer object</td></tr><tr><td>1</td><td>BlockGroups_bg_Layer</td></tr><tr><td>2</td><td>3390</td></tr></table><h2>Messages</h2>Start Time: 11 September, 2020 16:24:59<br/>Succeeded at 11 September, 2020 16:25:03 (Elapsed Time: 4.02 seconds)<br/><style>.rendered_html td, .rendered_html th {text-align: left;}.rendered_html tbody {border: 1px solid black;}</style>"
      ],
      "text/plain": [
       "<Result 'BlockGroups_bg_Layer'>"
      ]
     },
     "execution_count": 47,
     "metadata": {},
     "output_type": "execute_result"
    }
   ],
   "source": [
    "# DMA to test against\n",
    "test_dma_name = 'seattle'\n",
    "\n",
    "# get paths to data for stress testing\n",
    "ba_data_dir = Path(get_ba_key_value('DataInstallDir', 'USA'))\n",
    "gdb = ba_data_dir/'Data'/'Demographic Data'/'USA_ACS_2019.gdb'\n",
    "bg_fc = gdb/'BlockGroups_bg'\n",
    "dma_fc = gdb/'DMAs_dm'\n",
    "\n",
    "# create a couple of layers for working with\n",
    "dma_lyr = arcpy.management.MakeFeatureLayer(str(dma_fc), where_clause=f\"UPPER(NAME) LIKE UPPER('%{test_dma_name}%')\")\n",
    "assert int(arcpy.management.GetCount(dma_lyr)[0]) == 1\n",
    "bg_lyr = arcpy.management.MakeFeatureLayer(str(bg_fc))\n",
    "\n",
    "# select only the block groups in the DMA\n",
    "arcpy.management.SelectLayerByLocation(\n",
    "    in_layer=bg_lyr,\n",
    "    overlap_type='HAVE_THEIR_CENTER_IN',\n",
    "    select_features=dma_lyr\n",
    ")     "
   ]
  },
  {
   "cell_type": "code",
   "execution_count": 48,
   "metadata": {},
   "outputs": [],
   "source": [
    "usa = dm.Country('USA')"
   ]
  },
  {
   "cell_type": "code",
   "execution_count": 49,
   "metadata": {},
   "outputs": [
    {
     "data": {
      "text/plain": [
       "'tapestryhouseholdsNEW.THH32;transportation.X6062FY_X;agebyracebysex.AIF45_CY;clothing.X5059_X;agebyracebysex.MLTF35_FY;raceandhispanicorigin.RACE2UP_CY;agebyracebysex.ASNM30_FY;HealthPersonalCare.MP14016a_B;agebyracebysex.ASN35C10;HousingHousehold.X4099_X;agebyracebysex.HSP45_FY;GroceryAlcoholicBeverages.MP12001h_B;1yearincrements.AGE72_FY;PsychographicsAdvertising.MP28166a_B;PetsPetProducts.MP26012h_B;agebyracebysex.ASNF75_FY;vehiclesavailable.ACSOVEH3;1yearincrements.MAGE54_CY;GroceryAlcoholicBeverages.MP13025a_B;MediaRadioOtherAudio.MP22086a_B'"
      ]
     },
     "execution_count": 49,
     "metadata": {},
     "output_type": "execute_result"
    }
   ],
   "source": [
    "n_vars = 20\n",
    "\n",
    "enrich_vars = usa.enrich_variables.enrich_str\n",
    "\n",
    "var_lst = enrich_vars.sample(n_vars)\n",
    " \n",
    "var_str = ';'.join(var_lst)\n",
    "\n",
    "var_str"
   ]
  },
  {
   "cell_type": "code",
   "execution_count": 50,
   "metadata": {},
   "outputs": [
    {
     "data": {
      "text/plain": [
       "'C:\\\\Users\\\\joel5174\\\\AppData\\\\Local\\\\Temp\\\\scratch.gdb\\\\test_enrich_0020'"
      ]
     },
     "execution_count": 50,
     "metadata": {},
     "output_type": "execute_result"
    }
   ],
   "source": [
    "res = arcpy.ba.EnrichLayer(bg_lyr,\n",
    "                           os.path.join(arcpy.env.scratchGDB, f'test_enrich_{len(var_lst):04d}'),\n",
    "                           var_str)[0]\n",
    "\n",
    "res"
   ]
  },
  {
   "cell_type": "code",
   "execution_count": null,
   "metadata": {},
   "outputs": [],
   "source": []
  }
 ],
 "metadata": {
  "kernelspec": {
   "display_name": "Python 3",
   "language": "python",
   "name": "python3"
  },
  "language_info": {
   "codemirror_mode": {
    "name": "ipython",
    "version": 3
   },
   "file_extension": ".py",
   "mimetype": "text/x-python",
   "name": "python",
   "nbconvert_exporter": "python",
   "pygments_lexer": "ipython3",
   "version": "3.6.10"
  }
 },
 "nbformat": 4,
 "nbformat_minor": 4
}
