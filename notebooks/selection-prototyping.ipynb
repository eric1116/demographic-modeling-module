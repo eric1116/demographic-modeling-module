{
 "cells": [
  {
   "cell_type": "code",
   "execution_count": 2,
   "metadata": {},
   "outputs": [],
   "source": [
    "import importlib\n",
    "import os\n",
    "from pathlib import Path\n",
    "import sys\n",
    "\n",
    "from arcgis.features import GeoAccessor, GeoSeriesAccessor\n",
    "from arcgis.gis import GIS\n",
    "from dotenv import load_dotenv, find_dotenv\n",
    "import pandas as pd\n",
    "\n",
    "# import arcpy if available\n",
    "if importlib.util.find_spec(\"arcpy\") is not None:\n",
    "    import arcpy"
   ]
  },
  {
   "cell_type": "code",
   "execution_count": 7,
   "metadata": {},
   "outputs": [
    {
     "name": "stdout",
     "output_type": "stream",
     "text": [
      "The autoreload extension is already loaded. To reload it, use:\n",
      "  %reload_ext autoreload\n"
     ]
    },
    {
     "data": {
      "text/html": [
       "GIS @ <a href=\"https://geoai.maps.arcgis.com\">https://geoai.maps.arcgis.com</a>"
      ],
      "text/plain": [
       "GIS @ https://geoai.maps.arcgis.com version:8.2"
      ]
     },
     "execution_count": 7,
     "metadata": {},
     "output_type": "execute_result"
    }
   ],
   "source": [
    "# paths to common data locations - NOTE: to convert any path to a raw string, simply use str(path_instance)\n",
    "project_parent = Path('./').absolute().parent\n",
    "\n",
    "data_dir = project_parent/'data'\n",
    "\n",
    "data_raw = data_dir/'raw'\n",
    "data_ext = data_dir/'external'\n",
    "data_int = data_dir/'interim'\n",
    "data_out = data_dir/'processed'\n",
    "\n",
    "gdb_raw = data_raw/'raw.gdb'\n",
    "gdb_int = data_int/'interim.gdb'\n",
    "gdb_out = data_out/'processed.gdb'\n",
    "\n",
    "# import the project package from the project package path\n",
    "sys.path.insert(0, str(project_parent/'src'))\n",
    "import dm\n",
    "\n",
    "# load the \"autoreload\" extension so that code can change, & always reload modules so that as you change code in src, it gets loaded\n",
    "%load_ext autoreload\n",
    "%autoreload 2\n",
    "\n",
    "# load environment variables from .env\n",
    "load_dotenv(find_dotenv())\n",
    "\n",
    "# create a GIS object instance; if you did not enter any information here, it defaults to anonymous access to ArcGIS Online\n",
    "gis = GIS(\n",
    "    url=os.getenv('ESRI_GIS_URL'), \n",
    "    username=os.getenv('ESRI_GIS_USERNAME'),\n",
    "    password=os.getenv('ESRI_GIS_PASSWORD')\n",
    ")\n",
    "\n",
    "gis"
   ]
  },
  {
   "cell_type": "code",
   "execution_count": 9,
   "metadata": {},
   "outputs": [
    {
     "data": {
      "text/plain": [
       "WindowsPath('D:/arcgis/ba_data/Data/Demographic Data/USA_ESRI_2019.gdb')"
      ]
     },
     "execution_count": 9,
     "metadata": {},
     "output_type": "execute_result"
    }
   ],
   "source": [
    "gdb = dm._registry.get_ba_demographic_gdb_path()\n",
    "\n",
    "gdb"
   ]
  },
  {
   "cell_type": "code",
   "execution_count": 25,
   "metadata": {},
   "outputs": [],
   "source": [
    "fc = gdb/'BlockGroups_bg'\n",
    "aoi_fc = gdb/'CBSAs_cb'\n",
    "aoi_selector = 'Seattle'"
   ]
  },
  {
   "cell_type": "code",
   "execution_count": 30,
   "metadata": {},
   "outputs": [
    {
     "data": {
      "text/html": [
       "<h2>Output</h2>217209<h2>Messages</h2>Start Time: 20 August, 2020 06:50:55<br/>Row Count = 217209<br/>Succeeded at 20 August, 2020 06:50:56 (Elapsed Time: 0.77 seconds)<br/><style>.rendered_html td, .rendered_html th {text-align: left;}.rendered_html tbody {border: 1px solid black;}</style>"
      ],
      "text/plain": [
       "<Result '217209'>"
      ]
     },
     "execution_count": 30,
     "metadata": {},
     "output_type": "execute_result"
    }
   ],
   "source": [
    "lyr = arcpy.management.MakeFeatureLayer(str(fc))[0]\n",
    "\n",
    "arcpy.management.GetCount(lyr)"
   ]
  },
  {
   "cell_type": "code",
   "execution_count": 27,
   "metadata": {},
   "outputs": [],
   "source": [
    "aoi_lyr = arcpy.management.MakeFeatureLayer(str(aoi_fc), where_clause=f\"NAME LIKE '%{aoi_selector}%'\")[0]"
   ]
  },
  {
   "cell_type": "code",
   "execution_count": 28,
   "metadata": {},
   "outputs": [],
   "source": [
    "sel_lyr = arcpy.management.SelectLayerByLocation(\n",
    "    in_layer=lyr,\n",
    "    overlap_type='HAVE_THEIR_CENTER_IN',\n",
    "    select_features=aoi_lyr\n",
    ")[0]"
   ]
  },
  {
   "cell_type": "code",
   "execution_count": 29,
   "metadata": {},
   "outputs": [
    {
     "data": {
      "text/html": [
       "<h2>Output</h2>2474<h2>Messages</h2>Start Time: 20 August, 2020 06:50:27<br/>Row Count = 2474<br/>Succeeded at 20 August, 2020 06:50:28 (Elapsed Time: 0.77 seconds)<br/><style>.rendered_html td, .rendered_html th {text-align: left;}.rendered_html tbody {border: 1px solid black;}</style>"
      ],
      "text/plain": [
       "<Result '2474'>"
      ]
     },
     "execution_count": 29,
     "metadata": {},
     "output_type": "execute_result"
    }
   ],
   "source": [
    "arcpy.management.GetCount(sel_lyr)"
   ]
  },
  {
   "cell_type": "code",
   "execution_count": 31,
   "metadata": {},
   "outputs": [
    {
     "data": {
      "text/html": [
       "<div>\n",
       "<style scoped>\n",
       "    .dataframe tbody tr th:only-of-type {\n",
       "        vertical-align: middle;\n",
       "    }\n",
       "\n",
       "    .dataframe tbody tr th {\n",
       "        vertical-align: top;\n",
       "    }\n",
       "\n",
       "    .dataframe thead th {\n",
       "        text-align: right;\n",
       "    }\n",
       "</style>\n",
       "<table border=\"1\" class=\"dataframe\">\n",
       "  <thead>\n",
       "    <tr style=\"text-align: right;\">\n",
       "      <th></th>\n",
       "      <th>ID</th>\n",
       "      <th>SHAPE</th>\n",
       "    </tr>\n",
       "  </thead>\n",
       "  <tbody>\n",
       "    <tr>\n",
       "      <th>0</th>\n",
       "      <td>530530701003</td>\n",
       "      <td>{\"rings\": [[[-13587576.896200001, 5931283.3849...</td>\n",
       "    </tr>\n",
       "    <tr>\n",
       "      <th>1</th>\n",
       "      <td>530530714071</td>\n",
       "      <td>{\"rings\": [[[-13618997.0451, 5953796.150899999...</td>\n",
       "    </tr>\n",
       "    <tr>\n",
       "      <th>2</th>\n",
       "      <td>530530714072</td>\n",
       "      <td>{\"rings\": [[[-13621890.9066, 5953114.284599997...</td>\n",
       "    </tr>\n",
       "    <tr>\n",
       "      <th>3</th>\n",
       "      <td>530530714073</td>\n",
       "      <td>{\"rings\": [[[-13622599.9004, 5953136.347999997...</td>\n",
       "    </tr>\n",
       "    <tr>\n",
       "      <th>4</th>\n",
       "      <td>530530714112</td>\n",
       "      <td>{\"rings\": [[[-13627506.4183, 5953782.585000001...</td>\n",
       "    </tr>\n",
       "  </tbody>\n",
       "</table>\n",
       "</div>"
      ],
      "text/plain": [
       "             ID                                              SHAPE\n",
       "0  530530701003  {\"rings\": [[[-13587576.896200001, 5931283.3849...\n",
       "1  530530714071  {\"rings\": [[[-13618997.0451, 5953796.150899999...\n",
       "2  530530714072  {\"rings\": [[[-13621890.9066, 5953114.284599997...\n",
       "3  530530714073  {\"rings\": [[[-13622599.9004, 5953136.347999997...\n",
       "4  530530714112  {\"rings\": [[[-13627506.4183, 5953782.585000001..."
      ]
     },
     "execution_count": 31,
     "metadata": {},
     "output_type": "execute_result"
    }
   ],
   "source": [
    "sel_df = GeoAccessor.from_featureclass(sel_lyr, fields=['ID'])\n",
    "\n",
    "sel_df.head()"
   ]
  },
  {
   "cell_type": "code",
   "execution_count": 32,
   "metadata": {},
   "outputs": [
    {
     "name": "stdout",
     "output_type": "stream",
     "text": [
      "<class 'pandas.core.frame.DataFrame'>\n",
      "RangeIndex: 2474 entries, 0 to 2473\n",
      "Data columns (total 2 columns):\n",
      " #   Column  Non-Null Count  Dtype   \n",
      "---  ------  --------------  -----   \n",
      " 0   ID      2474 non-null   object  \n",
      " 1   SHAPE   2474 non-null   geometry\n",
      "dtypes: geometry(1), object(1)\n",
      "memory usage: 38.8+ KB\n"
     ]
    }
   ],
   "source": [
    "sel_df.info()"
   ]
  },
  {
   "cell_type": "code",
   "execution_count": null,
   "metadata": {},
   "outputs": [],
   "source": []
  }
 ],
 "metadata": {
  "kernelspec": {
   "display_name": "Python 3",
   "language": "python",
   "name": "python3"
  },
  "language_info": {
   "codemirror_mode": {
    "name": "ipython",
    "version": 3
   },
   "file_extension": ".py",
   "mimetype": "text/x-python",
   "name": "python",
   "nbconvert_exporter": "python",
   "pygments_lexer": "ipython3",
   "version": "3.6.10"
  }
 },
 "nbformat": 4,
 "nbformat_minor": 4
}
