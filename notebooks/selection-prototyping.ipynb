{
 "cells": [
  {
   "cell_type": "code",
   "execution_count": 2,
   "metadata": {},
   "outputs": [],
   "source": [
    "import importlib\n",
    "import os\n",
    "from pathlib import Path\n",
    "import sys\n",
    "\n",
    "from arcgis.features import GeoAccessor, GeoSeriesAccessor\n",
    "from arcgis.gis import GIS\n",
    "from dotenv import load_dotenv, find_dotenv\n",
    "import pandas as pd\n",
    "\n",
    "# import arcpy if available\n",
    "if importlib.util.find_spec(\"arcpy\") is not None:\n",
    "    import arcpy"
   ]
  },
  {
   "cell_type": "code",
   "execution_count": 3,
   "metadata": {},
   "outputs": [
    {
     "name": "stderr",
     "output_type": "stream",
     "text": [
      "D:\\projects\\demographic-modeling-module\\src\\dm\\_modify_geoaccessor.py:30: UserWarning: registration of accessor <class 'dm._modify_geoaccessor.GeoAccessorIO'> under name 'spatial' for type <class 'pandas.core.frame.DataFrame'> is overriding a preexistingattribute with the same name.\n",
      "  class GeoAccessorIO(GeoAccessor):\n"
     ]
    },
    {
     "data": {
      "text/html": [
       "GIS @ <a href=\"https://geoai.maps.arcgis.com\">https://geoai.maps.arcgis.com</a>"
      ],
      "text/plain": [
       "GIS @ https://geoai.maps.arcgis.com version:8.2"
      ]
     },
     "execution_count": 3,
     "metadata": {},
     "output_type": "execute_result"
    }
   ],
   "source": [
    "# paths to common data locations - NOTE: to convert any path to a raw string, simply use str(path_instance)\n",
    "project_parent = Path('./').absolute().parent\n",
    "\n",
    "data_dir = project_parent/'data'\n",
    "\n",
    "data_raw = data_dir/'raw'\n",
    "data_ext = data_dir/'external'\n",
    "data_int = data_dir/'interim'\n",
    "data_out = data_dir/'processed'\n",
    "\n",
    "gdb_raw = data_raw/'raw.gdb'\n",
    "gdb_int = data_int/'interim.gdb'\n",
    "gdb_out = data_out/'processed.gdb'\n",
    "\n",
    "# import the project package from the project package path\n",
    "sys.path.insert(0, str(project_parent/'src'))\n",
    "import dm\n",
    "\n",
    "# load the \"autoreload\" extension so that code can change, & always reload modules so that as you change code in src, it gets loaded\n",
    "%load_ext autoreload\n",
    "%autoreload 2\n",
    "\n",
    "# load environment variables from .env\n",
    "load_dotenv(find_dotenv())\n",
    "\n",
    "# create a GIS object instance; if you did not enter any information here, it defaults to anonymous access to ArcGIS Online\n",
    "gis = GIS(\n",
    "    url=os.getenv('ESRI_GIS_URL'), \n",
    "    username=os.getenv('ESRI_GIS_USERNAME'),\n",
    "    password=os.getenv('ESRI_GIS_PASSWORD')\n",
    ")\n",
    "\n",
    "gis"
   ]
  },
  {
   "cell_type": "code",
   "execution_count": 4,
   "metadata": {},
   "outputs": [
    {
     "data": {
      "text/html": [
       "<div>\n",
       "<style scoped>\n",
       "    .dataframe tbody tr th:only-of-type {\n",
       "        vertical-align: middle;\n",
       "    }\n",
       "\n",
       "    .dataframe tbody tr th {\n",
       "        vertical-align: top;\n",
       "    }\n",
       "\n",
       "    .dataframe thead th {\n",
       "        text-align: right;\n",
       "    }\n",
       "</style>\n",
       "<table border=\"1\" class=\"dataframe\">\n",
       "  <thead>\n",
       "    <tr style=\"text-align: right;\">\n",
       "      <th></th>\n",
       "      <th>geo_name</th>\n",
       "      <th>geo_alias</th>\n",
       "      <th>col_id</th>\n",
       "      <th>col_name</th>\n",
       "      <th>feature_class_path</th>\n",
       "    </tr>\n",
       "  </thead>\n",
       "  <tbody>\n",
       "    <tr>\n",
       "      <th>0</th>\n",
       "      <td>block_groups</td>\n",
       "      <td>Block Groups</td>\n",
       "      <td>ID</td>\n",
       "      <td>NAME</td>\n",
       "      <td>D:\\arcgis\\ba_data\\Data\\Demographic Data\\USA_ES...</td>\n",
       "    </tr>\n",
       "    <tr>\n",
       "      <th>1</th>\n",
       "      <td>census_tracts</td>\n",
       "      <td>Census Tracts</td>\n",
       "      <td>ID</td>\n",
       "      <td>NAME</td>\n",
       "      <td>D:\\arcgis\\ba_data\\Data\\Demographic Data\\USA_ES...</td>\n",
       "    </tr>\n",
       "    <tr>\n",
       "      <th>2</th>\n",
       "      <td>cities_and_towns_places</td>\n",
       "      <td>Cities and Towns (Places)</td>\n",
       "      <td>ID</td>\n",
       "      <td>NAME</td>\n",
       "      <td>D:\\arcgis\\ba_data\\Data\\Demographic Data\\USA_ES...</td>\n",
       "    </tr>\n",
       "    <tr>\n",
       "      <th>3</th>\n",
       "      <td>zip_codes</td>\n",
       "      <td>ZIP Codes</td>\n",
       "      <td>ID</td>\n",
       "      <td>NAME</td>\n",
       "      <td>D:\\arcgis\\ba_data\\Data\\Demographic Data\\USA_ES...</td>\n",
       "    </tr>\n",
       "    <tr>\n",
       "      <th>4</th>\n",
       "      <td>county_subdivisions</td>\n",
       "      <td>County Subdivisions</td>\n",
       "      <td>ID</td>\n",
       "      <td>NAME</td>\n",
       "      <td>D:\\arcgis\\ba_data\\Data\\Demographic Data\\USA_ES...</td>\n",
       "    </tr>\n",
       "    <tr>\n",
       "      <th>5</th>\n",
       "      <td>counties</td>\n",
       "      <td>Counties</td>\n",
       "      <td>ID</td>\n",
       "      <td>NAME</td>\n",
       "      <td>D:\\arcgis\\ba_data\\Data\\Demographic Data\\USA_ES...</td>\n",
       "    </tr>\n",
       "    <tr>\n",
       "      <th>6</th>\n",
       "      <td>cbsas</td>\n",
       "      <td>CBSAs</td>\n",
       "      <td>ID</td>\n",
       "      <td>NAME</td>\n",
       "      <td>D:\\arcgis\\ba_data\\Data\\Demographic Data\\USA_ES...</td>\n",
       "    </tr>\n",
       "    <tr>\n",
       "      <th>7</th>\n",
       "      <td>congressional_districts</td>\n",
       "      <td>Congressional Districts</td>\n",
       "      <td>ID</td>\n",
       "      <td>NAME</td>\n",
       "      <td>D:\\arcgis\\ba_data\\Data\\Demographic Data\\USA_ES...</td>\n",
       "    </tr>\n",
       "    <tr>\n",
       "      <th>8</th>\n",
       "      <td>dmas</td>\n",
       "      <td>DMAs</td>\n",
       "      <td>ID</td>\n",
       "      <td>NAME</td>\n",
       "      <td>D:\\arcgis\\ba_data\\Data\\Demographic Data\\USA_ES...</td>\n",
       "    </tr>\n",
       "    <tr>\n",
       "      <th>9</th>\n",
       "      <td>states</td>\n",
       "      <td>States</td>\n",
       "      <td>ID</td>\n",
       "      <td>NAME</td>\n",
       "      <td>D:\\arcgis\\ba_data\\Data\\Demographic Data\\USA_ES...</td>\n",
       "    </tr>\n",
       "    <tr>\n",
       "      <th>10</th>\n",
       "      <td>entire_country</td>\n",
       "      <td>Entire Country</td>\n",
       "      <td>ID</td>\n",
       "      <td>NAME</td>\n",
       "      <td>D:\\arcgis\\ba_data\\Data\\Demographic Data\\USA_ES...</td>\n",
       "    </tr>\n",
       "  </tbody>\n",
       "</table>\n",
       "</div>"
      ],
      "text/plain": [
       "                   geo_name                  geo_alias col_id col_name  \\\n",
       "0              block_groups               Block Groups     ID     NAME   \n",
       "1             census_tracts              Census Tracts     ID     NAME   \n",
       "2   cities_and_towns_places  Cities and Towns (Places)     ID     NAME   \n",
       "3                 zip_codes                  ZIP Codes     ID     NAME   \n",
       "4       county_subdivisions        County Subdivisions     ID     NAME   \n",
       "5                  counties                   Counties     ID     NAME   \n",
       "6                     cbsas                      CBSAs     ID     NAME   \n",
       "7   congressional_districts    Congressional Districts     ID     NAME   \n",
       "8                      dmas                       DMAs     ID     NAME   \n",
       "9                    states                     States     ID     NAME   \n",
       "10           entire_country             Entire Country     ID     NAME   \n",
       "\n",
       "                                   feature_class_path  \n",
       "0   D:\\arcgis\\ba_data\\Data\\Demographic Data\\USA_ES...  \n",
       "1   D:\\arcgis\\ba_data\\Data\\Demographic Data\\USA_ES...  \n",
       "2   D:\\arcgis\\ba_data\\Data\\Demographic Data\\USA_ES...  \n",
       "3   D:\\arcgis\\ba_data\\Data\\Demographic Data\\USA_ES...  \n",
       "4   D:\\arcgis\\ba_data\\Data\\Demographic Data\\USA_ES...  \n",
       "5   D:\\arcgis\\ba_data\\Data\\Demographic Data\\USA_ES...  \n",
       "6   D:\\arcgis\\ba_data\\Data\\Demographic Data\\USA_ES...  \n",
       "7   D:\\arcgis\\ba_data\\Data\\Demographic Data\\USA_ES...  \n",
       "8   D:\\arcgis\\ba_data\\Data\\Demographic Data\\USA_ES...  \n",
       "9   D:\\arcgis\\ba_data\\Data\\Demographic Data\\USA_ES...  \n",
       "10  D:\\arcgis\\ba_data\\Data\\Demographic Data\\USA_ES...  "
      ]
     },
     "execution_count": 4,
     "metadata": {},
     "output_type": "execute_result"
    }
   ],
   "source": [
    "usa = dm.Country('USA')\n",
    "\n",
    "usa.geographies"
   ]
  },
  {
   "cell_type": "code",
   "execution_count": 5,
   "metadata": {},
   "outputs": [
    {
     "data": {
      "text/html": [
       "<div>\n",
       "<style scoped>\n",
       "    .dataframe tbody tr th:only-of-type {\n",
       "        vertical-align: middle;\n",
       "    }\n",
       "\n",
       "    .dataframe tbody tr th {\n",
       "        vertical-align: top;\n",
       "    }\n",
       "\n",
       "    .dataframe thead th {\n",
       "        text-align: right;\n",
       "    }\n",
       "</style>\n",
       "<table border=\"1\" class=\"dataframe\">\n",
       "  <thead>\n",
       "    <tr style=\"text-align: right;\">\n",
       "      <th></th>\n",
       "      <th>ID</th>\n",
       "      <th>NAME</th>\n",
       "      <th>SHAPE</th>\n",
       "    </tr>\n",
       "  </thead>\n",
       "  <tbody>\n",
       "    <tr>\n",
       "      <th>0</th>\n",
       "      <td>42660</td>\n",
       "      <td>Seattle-Tacoma-Bellevue, WA Metropolitan Stati...</td>\n",
       "      <td>{\"rings\": [[[-13651055.7226, 5968866.240900002...</td>\n",
       "    </tr>\n",
       "  </tbody>\n",
       "</table>\n",
       "</div>"
      ],
      "text/plain": [
       "      ID                                               NAME  \\\n",
       "0  42660  Seattle-Tacoma-Bellevue, WA Metropolitan Stati...   \n",
       "\n",
       "                                               SHAPE  \n",
       "0  {\"rings\": [[[-13651055.7226, 5968866.240900002...  "
      ]
     },
     "execution_count": 5,
     "metadata": {},
     "output_type": "execute_result"
    }
   ],
   "source": [
    "df_cbsa = usa.cbsas.get('tacoma')\n",
    "\n",
    "df_cbsa"
   ]
  },
  {
   "cell_type": "code",
   "execution_count": 6,
   "metadata": {},
   "outputs": [
    {
     "data": {
      "text/html": [
       "<div>\n",
       "<style scoped>\n",
       "    .dataframe tbody tr th:only-of-type {\n",
       "        vertical-align: middle;\n",
       "    }\n",
       "\n",
       "    .dataframe tbody tr th {\n",
       "        vertical-align: top;\n",
       "    }\n",
       "\n",
       "    .dataframe thead th {\n",
       "        text-align: right;\n",
       "    }\n",
       "</style>\n",
       "<table border=\"1\" class=\"dataframe\">\n",
       "  <thead>\n",
       "    <tr style=\"text-align: right;\">\n",
       "      <th></th>\n",
       "      <th>ID</th>\n",
       "      <th>NAME</th>\n",
       "      <th>SHAPE</th>\n",
       "    </tr>\n",
       "  </thead>\n",
       "  <tbody>\n",
       "    <tr>\n",
       "      <th>0</th>\n",
       "      <td>819</td>\n",
       "      <td>Seattle-Tacoma, WA</td>\n",
       "      <td>{\"rings\": [[[-13808354.615899999, 5826802.5746...</td>\n",
       "    </tr>\n",
       "  </tbody>\n",
       "</table>\n",
       "</div>"
      ],
      "text/plain": [
       "    ID                NAME                                              SHAPE\n",
       "0  819  Seattle-Tacoma, WA  {\"rings\": [[[-13808354.615899999, 5826802.5746..."
      ]
     },
     "execution_count": 6,
     "metadata": {},
     "output_type": "execute_result"
    }
   ],
   "source": [
    "usa = dm.Country('USA')\n",
    "dma_bg = usa.dmas.get('seattle')\n",
    "dma_bg"
   ]
  },
  {
   "cell_type": "code",
   "execution_count": 7,
   "metadata": {},
   "outputs": [],
   "source": [
    "self = dma_bg"
   ]
  },
  {
   "cell_type": "code",
   "execution_count": 11,
   "metadata": {},
   "outputs": [
    {
     "data": {
      "text/html": [
       "<div>\n",
       "<style scoped>\n",
       "    .dataframe tbody tr th:only-of-type {\n",
       "        vertical-align: middle;\n",
       "    }\n",
       "\n",
       "    .dataframe tbody tr th {\n",
       "        vertical-align: top;\n",
       "    }\n",
       "\n",
       "    .dataframe thead th {\n",
       "        text-align: right;\n",
       "    }\n",
       "</style>\n",
       "<table border=\"1\" class=\"dataframe\">\n",
       "  <thead>\n",
       "    <tr style=\"text-align: right;\">\n",
       "      <th></th>\n",
       "    </tr>\n",
       "  </thead>\n",
       "  <tbody>\n",
       "  </tbody>\n",
       "</table>\n",
       "</div>"
      ],
      "text/plain": [
       "GeographyLevel: block_groups"
      ]
     },
     "execution_count": 11,
     "metadata": {},
     "output_type": "execute_result"
    }
   ],
   "source": [
    "gl_bg = dm.country.GeographyLevel('block_groups', usa, dma_bg)\n",
    "gl_bg"
   ]
  },
  {
   "cell_type": "code",
   "execution_count": 12,
   "metadata": {},
   "outputs": [
    {
     "data": {
      "text/plain": [
       "dm.country.GeographyLevel"
      ]
     },
     "execution_count": 12,
     "metadata": {},
     "output_type": "execute_result"
    }
   ],
   "source": [
    "type(gl_bg)"
   ]
  },
  {
   "cell_type": "code",
   "execution_count": null,
   "metadata": {},
   "outputs": [],
   "source": [
    "     "
   ]
  }
 ],
 "metadata": {
  "kernelspec": {
   "display_name": "Python 3",
   "language": "python",
   "name": "python3"
  },
  "language_info": {
   "codemirror_mode": {
    "name": "ipython",
    "version": 3
   },
   "file_extension": ".py",
   "mimetype": "text/x-python",
   "name": "python",
   "nbconvert_exporter": "python",
   "pygments_lexer": "ipython3",
   "version": "3.6.10"
  }
 },
 "nbformat": 4,
 "nbformat_minor": 4
}
