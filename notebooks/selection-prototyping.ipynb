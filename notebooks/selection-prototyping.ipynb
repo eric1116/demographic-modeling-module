{
 "cells": [
  {
   "cell_type": "code",
   "execution_count": 1,
   "metadata": {},
   "outputs": [],
   "source": [
    "import importlib\n",
    "import os\n",
    "from pathlib import Path\n",
    "import sys\n",
    "\n",
    "from arcgis.features import GeoAccessor, GeoSeriesAccessor\n",
    "from arcgis.gis import GIS\n",
    "from dotenv import load_dotenv, find_dotenv\n",
    "import pandas as pd\n",
    "\n",
    "# import arcpy if available\n",
    "if importlib.util.find_spec(\"arcpy\") is not None:\n",
    "    import arcpy"
   ]
  },
  {
   "cell_type": "code",
   "execution_count": 3,
   "metadata": {},
   "outputs": [
    {
     "name": "stderr",
     "output_type": "stream",
     "text": [
      "D:\\projects\\demographic-modeling-module\\src\\dm\\_modify_geoaccessor.py:30: UserWarning: registration of accessor <class 'dm._modify_geoaccessor.GeoAccessorIO'> under name 'spatial' for type <class 'pandas.core.frame.DataFrame'> is overriding a preexistingattribute with the same name.\n",
      "  class GeoAccessorIO(GeoAccessor):\n"
     ]
    },
    {
     "data": {
      "text/html": [
       "GIS @ <a href=\"https://geoai.maps.arcgis.com\">https://geoai.maps.arcgis.com</a>"
      ],
      "text/plain": [
       "GIS @ https://geoai.maps.arcgis.com version:8.2"
      ]
     },
     "execution_count": 3,
     "metadata": {},
     "output_type": "execute_result"
    }
   ],
   "source": [
    "# paths to common data locations - NOTE: to convert any path to a raw string, simply use str(path_instance)\n",
    "project_parent = Path('./').absolute().parent\n",
    "\n",
    "data_dir = project_parent/'data'\n",
    "\n",
    "data_raw = data_dir/'raw'\n",
    "data_ext = data_dir/'external'\n",
    "data_int = data_dir/'interim'\n",
    "data_out = data_dir/'processed'\n",
    "\n",
    "gdb_raw = data_raw/'raw.gdb'\n",
    "gdb_int = data_int/'interim.gdb'\n",
    "gdb_out = data_out/'processed.gdb'\n",
    "\n",
    "# import the project package from the project package path\n",
    "sys.path.insert(0, str(project_parent/'src'))\n",
    "import dm\n",
    "\n",
    "# load the \"autoreload\" extension so that code can change, & always reload modules so that as you change code in src, it gets loaded\n",
    "%load_ext autoreload\n",
    "%autoreload 2\n",
    "\n",
    "# load environment variables from .env\n",
    "load_dotenv(find_dotenv())\n",
    "\n",
    "# create a GIS object instance; if you did not enter any information here, it defaults to anonymous access to ArcGIS Online\n",
    "gis = GIS(\n",
    "    url=os.getenv('ESRI_GIS_URL'), \n",
    "    username=os.getenv('ESRI_GIS_USERNAME'),\n",
    "    password=os.getenv('ESRI_GIS_PASSWORD')\n",
    ")\n",
    "\n",
    "gis"
   ]
  },
  {
   "cell_type": "code",
   "execution_count": 4,
   "metadata": {},
   "outputs": [
    {
     "data": {
      "text/html": [
       "<div>\n",
       "<style scoped>\n",
       "    .dataframe tbody tr th:only-of-type {\n",
       "        vertical-align: middle;\n",
       "    }\n",
       "\n",
       "    .dataframe tbody tr th {\n",
       "        vertical-align: top;\n",
       "    }\n",
       "\n",
       "    .dataframe thead th {\n",
       "        text-align: right;\n",
       "    }\n",
       "</style>\n",
       "<table border=\"1\" class=\"dataframe\">\n",
       "  <thead>\n",
       "    <tr style=\"text-align: right;\">\n",
       "      <th></th>\n",
       "      <th>geo_name</th>\n",
       "      <th>geo_alias</th>\n",
       "      <th>col_id</th>\n",
       "      <th>col_name</th>\n",
       "      <th>feature_class_path</th>\n",
       "    </tr>\n",
       "  </thead>\n",
       "  <tbody>\n",
       "    <tr>\n",
       "      <th>0</th>\n",
       "      <td>block_groups</td>\n",
       "      <td>Block Groups</td>\n",
       "      <td>ID</td>\n",
       "      <td>NAME</td>\n",
       "      <td>D:\\arcgis\\ba_data\\Data\\Demographic Data\\USA_ES...</td>\n",
       "    </tr>\n",
       "    <tr>\n",
       "      <th>1</th>\n",
       "      <td>census_tracts</td>\n",
       "      <td>Census Tracts</td>\n",
       "      <td>ID</td>\n",
       "      <td>NAME</td>\n",
       "      <td>D:\\arcgis\\ba_data\\Data\\Demographic Data\\USA_ES...</td>\n",
       "    </tr>\n",
       "    <tr>\n",
       "      <th>2</th>\n",
       "      <td>cities_and_towns_places</td>\n",
       "      <td>Cities and Towns (Places)</td>\n",
       "      <td>ID</td>\n",
       "      <td>NAME</td>\n",
       "      <td>D:\\arcgis\\ba_data\\Data\\Demographic Data\\USA_ES...</td>\n",
       "    </tr>\n",
       "    <tr>\n",
       "      <th>3</th>\n",
       "      <td>zip_codes</td>\n",
       "      <td>ZIP Codes</td>\n",
       "      <td>ID</td>\n",
       "      <td>NAME</td>\n",
       "      <td>D:\\arcgis\\ba_data\\Data\\Demographic Data\\USA_ES...</td>\n",
       "    </tr>\n",
       "    <tr>\n",
       "      <th>4</th>\n",
       "      <td>county_subdivisions</td>\n",
       "      <td>County Subdivisions</td>\n",
       "      <td>ID</td>\n",
       "      <td>NAME</td>\n",
       "      <td>D:\\arcgis\\ba_data\\Data\\Demographic Data\\USA_ES...</td>\n",
       "    </tr>\n",
       "    <tr>\n",
       "      <th>5</th>\n",
       "      <td>counties</td>\n",
       "      <td>Counties</td>\n",
       "      <td>ID</td>\n",
       "      <td>NAME</td>\n",
       "      <td>D:\\arcgis\\ba_data\\Data\\Demographic Data\\USA_ES...</td>\n",
       "    </tr>\n",
       "    <tr>\n",
       "      <th>6</th>\n",
       "      <td>cbsas</td>\n",
       "      <td>CBSAs</td>\n",
       "      <td>ID</td>\n",
       "      <td>NAME</td>\n",
       "      <td>D:\\arcgis\\ba_data\\Data\\Demographic Data\\USA_ES...</td>\n",
       "    </tr>\n",
       "    <tr>\n",
       "      <th>7</th>\n",
       "      <td>congressional_districts</td>\n",
       "      <td>Congressional Districts</td>\n",
       "      <td>ID</td>\n",
       "      <td>NAME</td>\n",
       "      <td>D:\\arcgis\\ba_data\\Data\\Demographic Data\\USA_ES...</td>\n",
       "    </tr>\n",
       "    <tr>\n",
       "      <th>8</th>\n",
       "      <td>dmas</td>\n",
       "      <td>DMAs</td>\n",
       "      <td>ID</td>\n",
       "      <td>NAME</td>\n",
       "      <td>D:\\arcgis\\ba_data\\Data\\Demographic Data\\USA_ES...</td>\n",
       "    </tr>\n",
       "    <tr>\n",
       "      <th>9</th>\n",
       "      <td>states</td>\n",
       "      <td>States</td>\n",
       "      <td>ID</td>\n",
       "      <td>NAME</td>\n",
       "      <td>D:\\arcgis\\ba_data\\Data\\Demographic Data\\USA_ES...</td>\n",
       "    </tr>\n",
       "    <tr>\n",
       "      <th>10</th>\n",
       "      <td>entire_country</td>\n",
       "      <td>Entire Country</td>\n",
       "      <td>ID</td>\n",
       "      <td>NAME</td>\n",
       "      <td>D:\\arcgis\\ba_data\\Data\\Demographic Data\\USA_ES...</td>\n",
       "    </tr>\n",
       "  </tbody>\n",
       "</table>\n",
       "</div>"
      ],
      "text/plain": [
       "                   geo_name                  geo_alias col_id col_name  \\\n",
       "0              block_groups               Block Groups     ID     NAME   \n",
       "1             census_tracts              Census Tracts     ID     NAME   \n",
       "2   cities_and_towns_places  Cities and Towns (Places)     ID     NAME   \n",
       "3                 zip_codes                  ZIP Codes     ID     NAME   \n",
       "4       county_subdivisions        County Subdivisions     ID     NAME   \n",
       "5                  counties                   Counties     ID     NAME   \n",
       "6                     cbsas                      CBSAs     ID     NAME   \n",
       "7   congressional_districts    Congressional Districts     ID     NAME   \n",
       "8                      dmas                       DMAs     ID     NAME   \n",
       "9                    states                     States     ID     NAME   \n",
       "10           entire_country             Entire Country     ID     NAME   \n",
       "\n",
       "                                   feature_class_path  \n",
       "0   D:\\arcgis\\ba_data\\Data\\Demographic Data\\USA_ES...  \n",
       "1   D:\\arcgis\\ba_data\\Data\\Demographic Data\\USA_ES...  \n",
       "2   D:\\arcgis\\ba_data\\Data\\Demographic Data\\USA_ES...  \n",
       "3   D:\\arcgis\\ba_data\\Data\\Demographic Data\\USA_ES...  \n",
       "4   D:\\arcgis\\ba_data\\Data\\Demographic Data\\USA_ES...  \n",
       "5   D:\\arcgis\\ba_data\\Data\\Demographic Data\\USA_ES...  \n",
       "6   D:\\arcgis\\ba_data\\Data\\Demographic Data\\USA_ES...  \n",
       "7   D:\\arcgis\\ba_data\\Data\\Demographic Data\\USA_ES...  \n",
       "8   D:\\arcgis\\ba_data\\Data\\Demographic Data\\USA_ES...  \n",
       "9   D:\\arcgis\\ba_data\\Data\\Demographic Data\\USA_ES...  \n",
       "10  D:\\arcgis\\ba_data\\Data\\Demographic Data\\USA_ES...  "
      ]
     },
     "execution_count": 4,
     "metadata": {},
     "output_type": "execute_result"
    }
   ],
   "source": [
    "usa = dm.Country('USA')\n",
    "\n",
    "usa.geographies"
   ]
  },
  {
   "cell_type": "code",
   "execution_count": 5,
   "metadata": {},
   "outputs": [
    {
     "data": {
      "text/html": [
       "<div>\n",
       "<style scoped>\n",
       "    .dataframe tbody tr th:only-of-type {\n",
       "        vertical-align: middle;\n",
       "    }\n",
       "\n",
       "    .dataframe tbody tr th {\n",
       "        vertical-align: top;\n",
       "    }\n",
       "\n",
       "    .dataframe thead th {\n",
       "        text-align: right;\n",
       "    }\n",
       "</style>\n",
       "<table border=\"1\" class=\"dataframe\">\n",
       "  <thead>\n",
       "    <tr style=\"text-align: right;\">\n",
       "      <th></th>\n",
       "      <th>ID</th>\n",
       "      <th>NAME</th>\n",
       "      <th>SHAPE</th>\n",
       "    </tr>\n",
       "  </thead>\n",
       "  <tbody>\n",
       "    <tr>\n",
       "      <th>0</th>\n",
       "      <td>42660</td>\n",
       "      <td>Seattle-Tacoma-Bellevue, WA Metropolitan Stati...</td>\n",
       "      <td>{\"rings\": [[[-13651055.7226, 5968866.240900002...</td>\n",
       "    </tr>\n",
       "  </tbody>\n",
       "</table>\n",
       "</div>"
      ],
      "text/plain": [
       "      ID                                               NAME  \\\n",
       "0  42660  Seattle-Tacoma-Bellevue, WA Metropolitan Stati...   \n",
       "\n",
       "                                               SHAPE  \n",
       "0  {\"rings\": [[[-13651055.7226, 5968866.240900002...  "
      ]
     },
     "execution_count": 5,
     "metadata": {},
     "output_type": "execute_result"
    }
   ],
   "source": [
    "df_cbsa = usa.cbsas.get('tacoma')\n",
    "\n",
    "df_cbsa"
   ]
  },
  {
   "cell_type": "code",
   "execution_count": 13,
   "metadata": {},
   "outputs": [
    {
     "data": {
      "text/plain": [
       "<class: GeographyLevel - block_groups>"
      ]
     },
     "execution_count": 13,
     "metadata": {},
     "output_type": "execute_result"
    }
   ],
   "source": [
    "usa = dm.Country('USA')\n",
    "\n",
    "bg_lvl = usa.dmas.get('seattle').block_groups\n",
    "\n",
    "bg_lvl"
   ]
  },
  {
   "cell_type": "code",
   "execution_count": 40,
   "metadata": {},
   "outputs": [
    {
     "data": {
      "text/plain": [
       "<class: GeographyLevel - block_groups>"
      ]
     },
     "execution_count": 40,
     "metadata": {},
     "output_type": "execute_result"
    }
   ],
   "source": [
    "usa = dm.Country('USA')\n",
    "\n",
    "bg_lvl = usa.dmas.get('seattle').level(0)\n",
    "\n",
    "bg_lvl"
   ]
  },
  {
   "cell_type": "code",
   "execution_count": 36,
   "metadata": {},
   "outputs": [
    {
     "name": "stdout",
     "output_type": "stream",
     "text": [
      "<class 'pandas.core.frame.DataFrame'>\n",
      "RangeIndex: 2474 entries, 0 to 2473\n",
      "Data columns (total 3 columns):\n",
      " #   Column  Non-Null Count  Dtype   \n",
      "---  ------  --------------  -----   \n",
      " 0   ID      2474 non-null   object  \n",
      " 1   NAME    2474 non-null   object  \n",
      " 2   SHAPE   2474 non-null   geometry\n",
      "dtypes: geometry(1), object(2)\n",
      "memory usage: 58.1+ KB\n"
     ]
    }
   ],
   "source": [
    "bg_df = usa.cbsas.get('seattle').block_groups.get()\n",
    "\n",
    "bg_df.info()"
   ]
  },
  {
   "cell_type": "code",
   "execution_count": 32,
   "metadata": {},
   "outputs": [
    {
     "data": {
      "text/html": [
       "<div>\n",
       "<style scoped>\n",
       "    .dataframe tbody tr th:only-of-type {\n",
       "        vertical-align: middle;\n",
       "    }\n",
       "\n",
       "    .dataframe tbody tr th {\n",
       "        vertical-align: top;\n",
       "    }\n",
       "\n",
       "    .dataframe thead th {\n",
       "        text-align: right;\n",
       "    }\n",
       "</style>\n",
       "<table border=\"1\" class=\"dataframe\">\n",
       "  <thead>\n",
       "    <tr style=\"text-align: right;\">\n",
       "      <th></th>\n",
       "      <th>ID</th>\n",
       "      <th>NAME</th>\n",
       "      <th>SHAPE</th>\n",
       "    </tr>\n",
       "  </thead>\n",
       "  <tbody>\n",
       "    <tr>\n",
       "      <th>0</th>\n",
       "      <td>530530714071</td>\n",
       "      <td>530530714.071</td>\n",
       "      <td>{\"rings\": [[[-13618997.0451, 5953796.150899999...</td>\n",
       "    </tr>\n",
       "    <tr>\n",
       "      <th>1</th>\n",
       "      <td>530530714072</td>\n",
       "      <td>530530714.072</td>\n",
       "      <td>{\"rings\": [[[-13621890.9066, 5953114.284599997...</td>\n",
       "    </tr>\n",
       "    <tr>\n",
       "      <th>2</th>\n",
       "      <td>530530714073</td>\n",
       "      <td>530530714.073</td>\n",
       "      <td>{\"rings\": [[[-13622599.9004, 5953136.347999997...</td>\n",
       "    </tr>\n",
       "    <tr>\n",
       "      <th>3</th>\n",
       "      <td>530530714112</td>\n",
       "      <td>530530714.112</td>\n",
       "      <td>{\"rings\": [[[-13627506.4183, 5953782.585000001...</td>\n",
       "    </tr>\n",
       "    <tr>\n",
       "      <th>4</th>\n",
       "      <td>530530729061</td>\n",
       "      <td>530530729.061</td>\n",
       "      <td>{\"rings\": [[[-13654973.1668, 5957970.395400003...</td>\n",
       "    </tr>\n",
       "  </tbody>\n",
       "</table>\n",
       "</div>"
      ],
      "text/plain": [
       "             ID           NAME  \\\n",
       "0  530530714071  530530714.071   \n",
       "1  530530714072  530530714.072   \n",
       "2  530530714073  530530714.073   \n",
       "3  530530714112  530530714.112   \n",
       "4  530530729061  530530729.061   \n",
       "\n",
       "                                               SHAPE  \n",
       "0  {\"rings\": [[[-13618997.0451, 5953796.150899999...  \n",
       "1  {\"rings\": [[[-13621890.9066, 5953114.284599997...  \n",
       "2  {\"rings\": [[[-13622599.9004, 5953136.347999997...  \n",
       "3  {\"rings\": [[[-13627506.4183, 5953782.585000001...  \n",
       "4  {\"rings\": [[[-13654973.1668, 5957970.395400003...  "
      ]
     },
     "execution_count": 32,
     "metadata": {},
     "output_type": "execute_result"
    }
   ],
   "source": [
    "bg_df.head()"
   ]
  },
  {
   "cell_type": "code",
   "execution_count": 39,
   "metadata": {},
   "outputs": [
    {
     "name": "stdout",
     "output_type": "stream",
     "text": [
      "<class 'pandas.core.frame.DataFrame'>\n",
      "RangeIndex: 2474 entries, 0 to 2473\n",
      "Data columns (total 3 columns):\n",
      " #   Column  Non-Null Count  Dtype   \n",
      "---  ------  --------------  -----   \n",
      " 0   ID      2474 non-null   object  \n",
      " 1   NAME    2474 non-null   object  \n",
      " 2   SHAPE   2474 non-null   geometry\n",
      "dtypes: geometry(1), object(2)\n",
      "memory usage: 58.1+ KB\n"
     ]
    }
   ],
   "source": [
    "bg_df = usa.cbsas.get('seattle').level(0).get()\n",
    "\n",
    "bg_df.info()"
   ]
  },
  {
   "cell_type": "code",
   "execution_count": null,
   "metadata": {},
   "outputs": [],
   "source": []
  }
 ],
 "metadata": {
  "kernelspec": {
   "display_name": "Python 3",
   "language": "python",
   "name": "python3"
  },
  "language_info": {
   "codemirror_mode": {
    "name": "ipython",
    "version": 3
   },
   "file_extension": ".py",
   "mimetype": "text/x-python",
   "name": "python",
   "nbconvert_exporter": "python",
   "pygments_lexer": "ipython3",
   "version": "3.6.10"
  }
 },
 "nbformat": 4,
 "nbformat_minor": 4
}
