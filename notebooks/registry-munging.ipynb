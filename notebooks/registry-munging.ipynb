{
 "cells": [
  {
   "cell_type": "code",
   "execution_count": 1,
   "metadata": {},
   "outputs": [],
   "source": [
    "import importlib\n",
    "import os\n",
    "from pathlib import Path\n",
    "import sys\n",
    "\n",
    "from arcgis.features import GeoAccessor, GeoSeriesAccessor\n",
    "from arcgis.gis import GIS\n",
    "from dotenv import load_dotenv, find_dotenv\n",
    "import pandas as pd\n",
    "\n",
    "# import arcpy if available\n",
    "if importlib.util.find_spec(\"arcpy\") is not None:\n",
    "    import arcpy"
   ]
  },
  {
   "cell_type": "code",
   "execution_count": 3,
   "metadata": {},
   "outputs": [
    {
     "name": "stdout",
     "output_type": "stream",
     "text": [
      "The autoreload extension is already loaded. To reload it, use:\n",
      "  %reload_ext autoreload\n"
     ]
    }
   ],
   "source": [
    "# paths to common data locations - NOTE: to convert any path to a raw string, simply use str(path_instance)\n",
    "project_parent = Path('./').absolute().parent\n",
    "\n",
    "data_dir = project_parent/'data'\n",
    "\n",
    "data_raw = data_dir/'raw'\n",
    "data_ext = data_dir/'external'\n",
    "data_int = data_dir/'interim'\n",
    "data_out = data_dir/'processed'\n",
    "\n",
    "gdb_raw = data_raw/'raw.gdb'\n",
    "gdb_int = data_int/'interim.gdb'\n",
    "gdb_out = data_out/'processed.gdb'\n",
    "\n",
    "# import the project package from the project package path\n",
    "sys.path.append(str(project_parent/'src'))\n",
    "import dm\n",
    "\n",
    "# load the \"autoreload\" extension so that code can change, & always reload modules so that as you change code in src, it gets loaded\n",
    "%load_ext autoreload\n",
    "%autoreload 2"
   ]
  },
  {
   "cell_type": "code",
   "execution_count": 6,
   "metadata": {},
   "outputs": [],
   "source": [
    "from ba_tools import data as ba_data"
   ]
  },
  {
   "cell_type": "code",
   "execution_count": 24,
   "metadata": {},
   "outputs": [],
   "source": [
    "keys = ba_data._get_child_keys(r'SOFTWARE\\WOW6432Node\\Esri\\BusinessAnalyst\\Datasets')\n",
    "\n",
    "def _get_dataset_info(key):\n",
    "    \n",
    "    name = os.path.basename(key)\n",
    "\n",
    "    name_parts = name.split('_')\n",
    "\n",
    "    country = name_parts[0] if name_parts[1] is not None else None\n",
    "    year = int(name_parts[2]) if name_parts[2] is not None else None\n",
    "    \n",
    "    return name, country, year\n",
    "\n",
    "cntry_info_lst = [_get_dataset_info(k) for k in keys]\n",
    "\n",
    "pd.DataFrame(cntry_info_lst, columns=['name', 'country', 'year'])"
   ]
  },
  {
   "cell_type": "code",
   "execution_count": 25,
   "metadata": {},
   "outputs": [],
   "source": [
    "from dm._registry_nav import *"
   ]
  },
  {
   "cell_type": "code",
   "execution_count": 29,
   "metadata": {},
   "outputs": [],
   "source": [
    "cntry_key_lst = get_child_keys(r'SOFTWARE\\WOW6432Node\\Esri\\BusinessAnalyst\\Datasets')"
   ]
  },
  {
   "cell_type": "code",
   "execution_count": 37,
   "metadata": {},
   "outputs": [
    {
     "data": {
      "text/plain": [
       "'SOFTWARE\\\\WOW6432Node\\\\Esri\\\\BusinessAnalyst\\\\Datasets\\\\USA_ESRI_2019'"
      ]
     },
     "execution_count": 37,
     "metadata": {},
     "output_type": "execute_result"
    }
   ],
   "source": [
    "cntry_key = cntry_key_lst[0]\n",
    "country_code = 'USA'\n",
    "\n",
    "[k for k in cntry_key_lst if os.path.basename(k).split('_')[0] == country_code][0]"
   ]
  },
  {
   "cell_type": "code",
   "execution_count": 38,
   "metadata": {},
   "outputs": [
    {
     "data": {
      "text/plain": [
       "'SOFTWARE\\\\WOW6432Node\\\\Esri\\\\BusinessAnalyst\\\\Datasets\\\\USA_ESRI_2019'"
      ]
     },
     "execution_count": 38,
     "metadata": {},
     "output_type": "execute_result"
    }
   ],
   "source": [
    "dm._registry_nav.get_usa_key()"
   ]
  },
  {
   "cell_type": "code",
   "execution_count": 40,
   "metadata": {},
   "outputs": [
    {
     "ename": "TypeError",
     "evalue": "get_usa_dataset() missing 1 required positional argument: 'self'",
     "output_type": "error",
     "traceback": [
      "\u001b[1;31m---------------------------------------------------------------------------\u001b[0m",
      "\u001b[1;31mTypeError\u001b[0m                                 Traceback (most recent call last)",
      "\u001b[1;32m<ipython-input-40-344c66a18fe3>\u001b[0m in \u001b[0;36m<module>\u001b[1;34m\u001b[0m\n\u001b[1;32m----> 1\u001b[1;33m \u001b[0mdm\u001b[0m\u001b[1;33m.\u001b[0m\u001b[0m_registry_nav\u001b[0m\u001b[1;33m.\u001b[0m\u001b[0mget_usa_dataset\u001b[0m\u001b[1;33m(\u001b[0m\u001b[1;33m)\u001b[0m\u001b[1;33m\u001b[0m\u001b[1;33m\u001b[0m\u001b[0m\n\u001b[0m",
      "\u001b[1;31mTypeError\u001b[0m: get_usa_dataset() missing 1 required positional argument: 'self'"
     ]
    }
   ],
   "source": [
    "dm._registry_nav.get_usa_dataset()"
   ]
  },
  {
   "cell_type": "code",
   "execution_count": 70,
   "metadata": {},
   "outputs": [
    {
     "data": {
      "text/plain": [
       "WindowsPath('D:/arcgis/ba_data/Data/Demographic Data/USA_ESRI_2019.gdb')"
      ]
     },
     "execution_count": 70,
     "metadata": {},
     "output_type": "execute_result"
    }
   ],
   "source": [
    "reg_pth = dm._registry_nav.get_country_key(country_code)\n",
    "key = winreg.OpenKey(winreg.HKEY_LOCAL_MACHINE, reg_pth)\n",
    "pth = winreg.QueryValueEx(key, 'DemographyDataDir1')[0]\n",
    "gdb = list(Path(pth).glob(f'*ESRI*.gdb'))[0]\n",
    "arcpy."
   ]
  },
  {
   "cell_type": "code",
   "execution_count": 57,
   "metadata": {},
   "outputs": [
    {
     "data": {
      "text/plain": [
       "('D:\\\\arcgis\\\\ba_data\\\\', 1)"
      ]
     },
     "execution_count": 57,
     "metadata": {},
     "output_type": "execute_result"
    }
   ],
   "source": [
    "cntry_ba_key = winreg.OpenKey(winreg.HKEY_LOCAL_MACHINE, r'SOFTWARE\\WOW6432Node\\Esri\\BusinessAnalyst\\Datasets\\USA_ESRI_2019')\n",
    "winreg.QueryValueEx(key, 'DataInstallDir')"
   ]
  },
  {
   "cell_type": "code",
   "execution_count": 72,
   "metadata": {},
   "outputs": [],
   "source": [
    "import tempfile"
   ]
  },
  {
   "cell_type": "code",
   "execution_count": 74,
   "metadata": {},
   "outputs": [
    {
     "data": {
      "text/plain": [
       "'C:\\\\Users\\\\joel5174\\\\AppData\\\\Local\\\\Temp\\\\2\\\\tmptf7e5u8s.csv'"
      ]
     },
     "execution_count": 74,
     "metadata": {},
     "output_type": "execute_result"
    }
   ],
   "source": [
    "tempfile.mktemp(suffix='.csv')"
   ]
  },
  {
   "cell_type": "code",
   "execution_count": 75,
   "metadata": {},
   "outputs": [],
   "source": [
    "@staticmethod\n",
    "def _geometry_column_to_str(self, dataframe:pd.DataFrame, geometry_column:str='SHAPE'):\n",
    "    \"\"\"\n",
    "    Helper function to follow the paradigm of DRYD (don't repeat yourself, DUMMY!) for converting a column from\n",
    "        a valid geometry type to an object(str). This is required to be able to save a Spatially Enabled DataFrame\n",
    "        to flat outputs such as CSV and parquet.\n",
    "    Args:\n",
    "        dataframe: Spatially Enabled DataFrame\n",
    "        geometry_column: Optional: Column containing valid Esri Geometry objects. This only needs to be specified\n",
    "            if the name of the column is not SHAPE.\n",
    "\n",
    "    Returns: Pandas DataFrame ready for export.\n",
    "\n",
    "    \"\"\"\n",
    "    dataframe[geometry_column] = dataframe[geometry_column].swifter.allow_dask_on_strings(True).apply(\n",
    "        lambda geom: geom.JSON)\n",
    "\n",
    "    return dataframe\n",
    "\n",
    "setattr(GeoAccessor,' _geometry_column_to_str', _geometry_column_to_str)"
   ]
  },
  {
   "cell_type": "code",
   "execution_count": null,
   "metadata": {},
   "outputs": [],
   "source": []
  }
 ],
 "metadata": {
  "kernelspec": {
   "display_name": "Python 3",
   "language": "python",
   "name": "python3"
  },
  "language_info": {
   "codemirror_mode": {
    "name": "ipython",
    "version": 3
   },
   "file_extension": ".py",
   "mimetype": "text/x-python",
   "name": "python",
   "nbconvert_exporter": "python",
   "pygments_lexer": "ipython3",
   "version": "3.6.10"
  }
 },
 "nbformat": 4,
 "nbformat_minor": 4
}
