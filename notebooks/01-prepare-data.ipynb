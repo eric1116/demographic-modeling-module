{
 "cells": [
  {
   "cell_type": "code",
   "execution_count": 1,
   "metadata": {},
   "outputs": [],
   "source": [
    "import importlib\n",
    "import os\n",
    "from pathlib import Path\n",
    "import sys\n",
    "\n",
    "from arcgis.features import GeoAccessor, GeoSeriesAccessor, FeatureSet\n",
    "from arcgis.geometry import Geometry\n",
    "from arcgis.gis import GIS\n",
    "import arcpy\n",
    "from dotenv import load_dotenv, find_dotenv\n",
    "import pandas as pd"
   ]
  },
  {
   "cell_type": "code",
   "execution_count": 2,
   "metadata": {},
   "outputs": [],
   "source": [
    "# paths to common data locations - NOTE: to convert any path to a raw string, simply use str(path_instance)\n",
    "project_parent = Path('./').absolute().parent\n",
    "\n",
    "data_dir = project_parent/'data'\n",
    "\n",
    "data_raw = data_dir/'raw'\n",
    "data_ext = data_dir/'external'\n",
    "data_int = data_dir/'interim'\n",
    "data_out = data_dir/'processed'\n",
    "\n",
    "gdb_raw = data_raw/'raw.gdb'\n",
    "gdb_int = data_int/'interim.gdb'\n",
    "gdb_out = data_out/'processed.gdb'\n",
    "\n",
    "# import the project package from the project package path\n",
    "# ideally will be imported using 'from arcgis import da'\n",
    "sys.path.append(str(project_parent/'src'))\n",
    "import dm\n",
    "\n",
    "# load the \"autoreload\" extension so that code can change, & always reload modules so that as you change code in src, it gets loaded\n",
    "%load_ext autoreload\n",
    "%autoreload 2"
   ]
  },
  {
   "cell_type": "markdown",
   "metadata": {},
   "source": [
    "# Introspectivley Examine and Get Geographies"
   ]
  },
  {
   "cell_type": "code",
   "execution_count": 3,
   "metadata": {},
   "outputs": [
    {
     "data": {
      "text/html": [
       "<div>\n",
       "<style scoped>\n",
       "    .dataframe tbody tr th:only-of-type {\n",
       "        vertical-align: middle;\n",
       "    }\n",
       "\n",
       "    .dataframe tbody tr th {\n",
       "        vertical-align: top;\n",
       "    }\n",
       "\n",
       "    .dataframe thead th {\n",
       "        text-align: right;\n",
       "    }\n",
       "</style>\n",
       "<table border=\"1\" class=\"dataframe\">\n",
       "  <thead>\n",
       "    <tr style=\"text-align: right;\">\n",
       "      <th></th>\n",
       "      <th>name</th>\n",
       "      <th>country</th>\n",
       "      <th>year</th>\n",
       "    </tr>\n",
       "  </thead>\n",
       "  <tbody>\n",
       "    <tr>\n",
       "      <th>0</th>\n",
       "      <td>USA_ESRI_2019</td>\n",
       "      <td>USA</td>\n",
       "      <td>2019</td>\n",
       "    </tr>\n",
       "  </tbody>\n",
       "</table>\n",
       "</div>"
      ],
      "text/plain": [
       "            name country  year\n",
       "0  USA_ESRI_2019     USA  2019"
      ]
     },
     "execution_count": 3,
     "metadata": {},
     "output_type": "execute_result"
    }
   ],
   "source": [
    "# discover what countries are available, and get dataframe of countries\n",
    "cntry_df = dm.util.get_countries()\n",
    "\n",
    "cntry_df"
   ]
  },
  {
   "cell_type": "code",
   "execution_count": 4,
   "metadata": {},
   "outputs": [
    {
     "data": {
      "text/plain": [
       "True"
      ]
     },
     "execution_count": 4,
     "metadata": {},
     "output_type": "execute_result"
    }
   ],
   "source": [
    "# specify a country\n",
    "usa = dm.Country('USA', source='local')\n",
    "\n",
    "isinstance(usa, dm.Country)"
   ]
  },
  {
   "cell_type": "code",
   "execution_count": 5,
   "metadata": {},
   "outputs": [
    {
     "data": {
      "text/html": [
       "<div>\n",
       "<style scoped>\n",
       "    .dataframe tbody tr th:only-of-type {\n",
       "        vertical-align: middle;\n",
       "    }\n",
       "\n",
       "    .dataframe tbody tr th {\n",
       "        vertical-align: top;\n",
       "    }\n",
       "\n",
       "    .dataframe thead th {\n",
       "        text-align: right;\n",
       "    }\n",
       "</style>\n",
       "<table border=\"1\" class=\"dataframe\">\n",
       "  <thead>\n",
       "    <tr style=\"text-align: right;\">\n",
       "      <th></th>\n",
       "      <th>name</th>\n",
       "      <th>alias</th>\n",
       "      <th>description</th>\n",
       "      <th>admin_level</th>\n",
       "    </tr>\n",
       "  </thead>\n",
       "  <tbody>\n",
       "    <tr>\n",
       "      <th>0</th>\n",
       "      <td>block_group</td>\n",
       "      <td>Block Group</td>\n",
       "      <td>US Census designated block groups</td>\n",
       "      <td>NaN</td>\n",
       "    </tr>\n",
       "    <tr>\n",
       "      <th>1</th>\n",
       "      <td>tract</td>\n",
       "      <td>Tract</td>\n",
       "      <td>US Census designated tracts</td>\n",
       "      <td>NaN</td>\n",
       "    </tr>\n",
       "    <tr>\n",
       "      <th>2</th>\n",
       "      <td>place</td>\n",
       "      <td>Place</td>\n",
       "      <td>US Census designated places, typically municip...</td>\n",
       "      <td>3.0</td>\n",
       "    </tr>\n",
       "    <tr>\n",
       "      <th>3</th>\n",
       "      <td>csd</td>\n",
       "      <td>County Sub-Divisions</td>\n",
       "      <td>Sub divisions within counties.</td>\n",
       "      <td>NaN</td>\n",
       "    </tr>\n",
       "    <tr>\n",
       "      <th>4</th>\n",
       "      <td>county</td>\n",
       "      <td>County</td>\n",
       "      <td>County boundaries</td>\n",
       "      <td>2.0</td>\n",
       "    </tr>\n",
       "    <tr>\n",
       "      <th>5</th>\n",
       "      <td>cbsa</td>\n",
       "      <td>Core-Based Statistical Area</td>\n",
       "      <td>Metro and mircopolitan areas.</td>\n",
       "      <td>NaN</td>\n",
       "    </tr>\n",
       "    <tr>\n",
       "      <th>6</th>\n",
       "      <td>dma</td>\n",
       "      <td>Designated Market Area</td>\n",
       "      <td>Market areas defined by media reach comprised ...</td>\n",
       "      <td>NaN</td>\n",
       "    </tr>\n",
       "    <tr>\n",
       "      <th>7</th>\n",
       "      <td>state</td>\n",
       "      <td>State</td>\n",
       "      <td>US states</td>\n",
       "      <td>1.0</td>\n",
       "    </tr>\n",
       "    <tr>\n",
       "      <th>8</th>\n",
       "      <td>country</td>\n",
       "      <td>Entire Country</td>\n",
       "      <td>The United States</td>\n",
       "      <td>0.0</td>\n",
       "    </tr>\n",
       "  </tbody>\n",
       "</table>\n",
       "</div>"
      ],
      "text/plain": [
       "          name                        alias  \\\n",
       "0  block_group                  Block Group   \n",
       "1        tract                        Tract   \n",
       "2        place                        Place   \n",
       "3          csd         County Sub-Divisions   \n",
       "4       county                       County   \n",
       "5         cbsa  Core-Based Statistical Area   \n",
       "6          dma       Designated Market Area   \n",
       "7        state                        State   \n",
       "8      country               Entire Country   \n",
       "\n",
       "                                         description  admin_level  \n",
       "0                  US Census designated block groups          NaN  \n",
       "1                        US Census designated tracts          NaN  \n",
       "2  US Census designated places, typically municip...          3.0  \n",
       "3                     Sub divisions within counties.          NaN  \n",
       "4                                  County boundaries          2.0  \n",
       "5                      Metro and mircopolitan areas.          NaN  \n",
       "6  Market areas defined by media reach comprised ...          NaN  \n",
       "7                                          US states          1.0  \n",
       "8                                  The United States          0.0  "
      ]
     },
     "execution_count": 5,
     "metadata": {},
     "output_type": "execute_result"
    }
   ],
   "source": [
    "# get the geographic resolutions available for the country as a dataframe from smallest to largest\n",
    "geos = usa.geographies\n",
    "\n",
    "geos"
   ]
  },
  {
   "cell_type": "code",
   "execution_count": 6,
   "metadata": {},
   "outputs": [
    {
     "data": {
      "text/html": [
       "<div>\n",
       "<style scoped>\n",
       "    .dataframe tbody tr th:only-of-type {\n",
       "        vertical-align: middle;\n",
       "    }\n",
       "\n",
       "    .dataframe tbody tr th {\n",
       "        vertical-align: top;\n",
       "    }\n",
       "\n",
       "    .dataframe thead th {\n",
       "        text-align: right;\n",
       "    }\n",
       "</style>\n",
       "<table border=\"1\" class=\"dataframe\">\n",
       "  <thead>\n",
       "    <tr style=\"text-align: right;\">\n",
       "      <th></th>\n",
       "      <th>ID</th>\n",
       "      <th>NAME</th>\n",
       "      <th>SHAPE</th>\n",
       "    </tr>\n",
       "  </thead>\n",
       "  <tbody>\n",
       "    <tr>\n",
       "      <th>0</th>\n",
       "      <td>150010201001</td>\n",
       "      <td>150010201.001</td>\n",
       "      <td>{\"rings\": [[[-17265507.1935, 2249488.050099998...</td>\n",
       "    </tr>\n",
       "    <tr>\n",
       "      <th>1</th>\n",
       "      <td>150010201002</td>\n",
       "      <td>150010201.002</td>\n",
       "      <td>{\"rings\": [[[-17266206.28, 2257608.5769000016]...</td>\n",
       "    </tr>\n",
       "    <tr>\n",
       "      <th>2</th>\n",
       "      <td>150010201003</td>\n",
       "      <td>150010201.003</td>\n",
       "      <td>{\"rings\": [[[-17264567.657, 2249850.0975], [-1...</td>\n",
       "    </tr>\n",
       "    <tr>\n",
       "      <th>3</th>\n",
       "      <td>150010201004</td>\n",
       "      <td>150010201.004</td>\n",
       "      <td>{\"rings\": [[[-17264343.9048, 2246722.049199998...</td>\n",
       "    </tr>\n",
       "    <tr>\n",
       "      <th>4</th>\n",
       "      <td>150010202021</td>\n",
       "      <td>150010202.021</td>\n",
       "      <td>{\"rings\": [[[-17264970.6029, 2244290.0187], [-...</td>\n",
       "    </tr>\n",
       "  </tbody>\n",
       "</table>\n",
       "</div>"
      ],
      "text/plain": [
       "             ID           NAME  \\\n",
       "0  150010201001  150010201.001   \n",
       "1  150010201002  150010201.002   \n",
       "2  150010201003  150010201.003   \n",
       "3  150010201004  150010201.004   \n",
       "4  150010202021  150010202.021   \n",
       "\n",
       "                                               SHAPE  \n",
       "0  {\"rings\": [[[-17265507.1935, 2249488.050099998...  \n",
       "1  {\"rings\": [[[-17266206.28, 2257608.5769000016]...  \n",
       "2  {\"rings\": [[[-17264567.657, 2249850.0975], [-1...  \n",
       "3  {\"rings\": [[[-17264343.9048, 2246722.049199998...  \n",
       "4  {\"rings\": [[[-17264970.6029, 2244290.0187], [-...  "
      ]
     },
     "execution_count": 6,
     "metadata": {},
     "output_type": "execute_result"
    }
   ],
   "source": [
    "# select the lowest geographic resolution available for the most granular analysis\n",
    "\n",
    "# ...by index...\n",
    "geo_0_df = usa.get_geography(0)\n",
    "\n",
    "geo_0_df.head()"
   ]
  },
  {
   "cell_type": "code",
   "execution_count": null,
   "metadata": {},
   "outputs": [],
   "source": [
    "# ...by name\n",
    "geo0_df = usa.get_geography('block_group')\n",
    "\n",
    "geo0_df.head()"
   ]
  },
  {
   "cell_type": "code",
   "execution_count": 67,
   "metadata": {},
   "outputs": [
    {
     "data": {
      "text/html": [
       "<div>\n",
       "<style scoped>\n",
       "    .dataframe tbody tr th:only-of-type {\n",
       "        vertical-align: middle;\n",
       "    }\n",
       "\n",
       "    .dataframe tbody tr th {\n",
       "        vertical-align: top;\n",
       "    }\n",
       "\n",
       "    .dataframe thead th {\n",
       "        text-align: right;\n",
       "    }\n",
       "</style>\n",
       "<table border=\"1\" class=\"dataframe\">\n",
       "  <thead>\n",
       "    <tr style=\"text-align: right;\">\n",
       "      <th></th>\n",
       "      <th>ID</th>\n",
       "      <th>NAME</th>\n",
       "      <th>SHAPE</th>\n",
       "    </tr>\n",
       "  </thead>\n",
       "  <tbody>\n",
       "    <tr>\n",
       "      <th>0</th>\n",
       "      <td>42660</td>\n",
       "      <td>Seattle-Tacoma-Bellevue, WA Metropolitan Stati...</td>\n",
       "      <td>{\"rings\": [[[-13651055.7226, 5968866.240900002...</td>\n",
       "    </tr>\n",
       "  </tbody>\n",
       "</table>\n",
       "</div>"
      ],
      "text/plain": [
       "      ID                                               NAME  \\\n",
       "0  42660  Seattle-Tacoma-Bellevue, WA Metropolitan Stati...   \n",
       "\n",
       "                                               SHAPE  \n",
       "0  {\"rings\": [[[-13651055.7226, 5968866.240900002...  "
      ]
     },
     "execution_count": 67,
     "metadata": {},
     "output_type": "execute_result"
    }
   ],
   "source": [
    "# get the area of interest by filtering a larger geography\n",
    "aoi_df = usa.get_geography('cbsa', selector='Seattle')\n",
    "\n",
    "aoi_df.head()"
   ]
  },
  {
   "cell_type": "code",
   "execution_count": null,
   "metadata": {},
   "outputs": [],
   "source": [
    "# get the block groups in the area of interest\n",
    "origin_geo_df = geo_df.spatial.within(aoi)"
   ]
  },
  {
   "cell_type": "markdown",
   "metadata": {},
   "source": [
    "# Get Locations"
   ]
  },
  {
   "cell_type": "code",
   "execution_count": null,
   "metadata": {},
   "outputs": [],
   "source": [
    "# get the store locations from the business listings\n",
    "loc_brand_df = usa.business.search('Ace Hardware')\n",
    "\n",
    "# ...and since returning a sptatially enabled dataframe, can use spatial.to_featureclass to save directly with function chaining\n",
    "usa.business.search('Ace Hardware').spatial.to_featureclass(gdb_int/'loc_brand')\n",
    "\n",
    "loc_brand_df.head()"
   ]
  },
  {
   "cell_type": "code",
   "execution_count": null,
   "metadata": {},
   "outputs": [],
   "source": [
    "# get all the competitors for the area of interest\n",
    "\n",
    "# ...by NAICS or SIC code...\n",
    "loc_comp_df = usa.business.get_competitors(\n",
    "    code=44413005,  # include ablity to specify shorted codes since NAICS codes can be shorter to be more general\n",
    "    code_type='NAICS', \n",
    "    brand_exclude='Ace Hardware'\n",
    ")\n",
    "\n",
    "# ...or simplly by looking up using the existing location brand layer as a template\n",
    "loc_comp_df = usa.business.get_competitors(brand_locations=loc_brand_df)\n",
    "\n",
    "# ...and since returning a sptatially enabled dataframe, can use spatial.to_featureclass to save directly with function chaining\n",
    "usa.business.get_competitors(brand_locations=loc_brand_df).spatial.to_featureclass(gdb_int/'loc_comp')"
   ]
  },
  {
   "cell_type": "markdown",
   "metadata": {},
   "source": [
    "# Calculate Proximity Metrics"
   ]
  },
  {
   "cell_type": "code",
   "execution_count": null,
   "metadata": {},
   "outputs": [],
   "source": [
    "# calculate the origin to nth destinations table for brand locations\n",
    "prox_df_brand = dm.proximity.get_neareset_nth_locations(\n",
    "    origin_features=orgin_geo_df,\n",
    "    origin_id_column='ID',                                      \n",
    "    origin_centroid_weighting_features='path-to-block-points',  # features used to calculate a population weighted centroid location for routing\n",
    "    origin_centroid_weighting_column='POP',                     # used to weight each population feature for centroid calculation\n",
    "    destination_locations=loc_brand_df,\n",
    "    destination_id_column='STORE_ID'\n",
    "    destination_brand_or_concept_column='STORE_CONCEPT',              # think Nike Outlet versus Nike Brand Store\n",
    ")"
   ]
  },
  {
   "cell_type": "code",
   "execution_count": null,
   "metadata": {},
   "outputs": [],
   "source": [
    "# calculate the origin to nth destinations table for brand locations\n",
    "prox_df_brand = dm.proximity.get_neareset_nth_locations(\n",
    "    origin_features=orgin_geo_df,\n",
    "    origin_id_column='ID',                                      \n",
    "    origin_centroid_weighting_features='path-to-block-points',  # features used to calculate a population weighted centroid location for routing\n",
    "    origin_centroid_weighting_column='POP',                     # used to weight each population feature for centroid calculation\n",
    "    destination_locations=loc_comp_df,\n",
    "    destination_id_column='LOCNUM'\n",
    "    destination_brand_or_concept_column='CONAME',               # think Nike Outlet versus Nike Brand Store\n",
    ")\n",
    "\n",
    "# ...and can even chain to create output using dataframe to_... functions\n",
    "prox_df_brand = dm.proximity.get_neareset_nth_locations(orgin_geo_df, 'ID', 'path-to-block-points', 'POP', loc_comp_df, 'LOCNUM', 'CONAME').to_csv('prox_df_brand.csv')"
   ]
  },
  {
   "cell_type": "markdown",
   "metadata": {},
   "source": [
    "# Enrich"
   ]
  }
 ],
 "metadata": {
  "kernelspec": {
   "display_name": "Python 3",
   "language": "python",
   "name": "python3"
  },
  "language_info": {
   "codemirror_mode": {
    "name": "ipython",
    "version": 3
   },
   "file_extension": ".py",
   "mimetype": "text/x-python",
   "name": "python",
   "nbconvert_exporter": "python",
   "pygments_lexer": "ipython3",
   "version": "3.6.10"
  },
  "pycharm": {
   "stem_cell": {
    "cell_type": "raw",
    "metadata": {
     "collapsed": false
    },
    "source": []
   }
  }
 },
 "nbformat": 4,
 "nbformat_minor": 4
}
