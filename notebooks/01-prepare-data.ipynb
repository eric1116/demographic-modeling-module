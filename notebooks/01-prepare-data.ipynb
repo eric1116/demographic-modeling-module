{
 "cells": [
  {
   "cell_type": "code",
   "execution_count": 16,
   "metadata": {},
   "outputs": [],
   "source": [
    "import importlib\n",
    "import os\n",
    "from pathlib import Path\n",
    "import sys\n",
    "\n",
    "from arcgis.features import GeoAccessor, GeoSeriesAccessor, FeatureSet\n",
    "from arcgis.geometry import Geometry\n",
    "from arcgis.gis import GIS\n",
    "import arcpy\n",
    "from dotenv import load_dotenv, find_dotenv\n",
    "import pandas as pd"
   ]
  },
  {
   "cell_type": "code",
   "execution_count": 17,
   "metadata": {},
   "outputs": [
    {
     "name": "stdout",
     "output_type": "stream",
     "text": [
      "The autoreload extension is already loaded. To reload it, use:\n",
      "  %reload_ext autoreload\n"
     ]
    }
   ],
   "source": [
    "# paths to common data locations - NOTE: to convert any path to a raw string, simply use str(path_instance)\n",
    "project_parent = Path('./').absolute().parent\n",
    "\n",
    "data_dir = project_parent/'data'\n",
    "\n",
    "data_raw = data_dir/'raw'\n",
    "data_ext = data_dir/'external'\n",
    "data_int = data_dir/'interim'\n",
    "data_out = data_dir/'processed'\n",
    "\n",
    "gdb_raw = data_raw/'raw.gdb'\n",
    "gdb_int = data_int/'interim.gdb'\n",
    "gdb_out = data_out/'processed.gdb'\n",
    "\n",
    "# import the project package from the project package path\n",
    "# ideally will be imported using 'from arcgis import da'\n",
    "sys.path.append(str(project_parent/'src'))\n",
    "import dm\n",
    "\n",
    "# load the \"autoreload\" extension so that code can change, & always reload modules so that as you change code in src, it gets loaded\n",
    "%load_ext autoreload\n",
    "%autoreload 2"
   ]
  },
  {
   "cell_type": "markdown",
   "metadata": {},
   "source": [
    "# Introspectivley Examine and Get Geographies"
   ]
  },
  {
   "cell_type": "code",
   "execution_count": 18,
   "metadata": {},
   "outputs": [
    {
     "data": {
      "text/html": [
       "<div>\n",
       "<style scoped>\n",
       "    .dataframe tbody tr th:only-of-type {\n",
       "        vertical-align: middle;\n",
       "    }\n",
       "\n",
       "    .dataframe tbody tr th {\n",
       "        vertical-align: top;\n",
       "    }\n",
       "\n",
       "    .dataframe thead th {\n",
       "        text-align: right;\n",
       "    }\n",
       "</style>\n",
       "<table border=\"1\" class=\"dataframe\">\n",
       "  <thead>\n",
       "    <tr style=\"text-align: right;\">\n",
       "      <th></th>\n",
       "      <th>name</th>\n",
       "      <th>country</th>\n",
       "      <th>year</th>\n",
       "    </tr>\n",
       "  </thead>\n",
       "  <tbody>\n",
       "    <tr>\n",
       "      <th>0</th>\n",
       "      <td>USA_ESRI_2019</td>\n",
       "      <td>USA</td>\n",
       "      <td>2019</td>\n",
       "    </tr>\n",
       "  </tbody>\n",
       "</table>\n",
       "</div>"
      ],
      "text/plain": [
       "            name country  year\n",
       "0  USA_ESRI_2019     USA  2019"
      ]
     },
     "execution_count": 18,
     "metadata": {},
     "output_type": "execute_result"
    }
   ],
   "source": [
    "# discover what countries are available, and get dataframe of countries\n",
    "cntry_df = dm.util.get_countries()\n",
    "\n",
    "cntry_df"
   ]
  },
  {
   "cell_type": "code",
   "execution_count": 19,
   "metadata": {},
   "outputs": [
    {
     "data": {
      "text/plain": [
       "True"
      ]
     },
     "execution_count": 19,
     "metadata": {},
     "output_type": "execute_result"
    }
   ],
   "source": [
    "# specify a country\n",
    "usa = dm.Country('USA', source='local')\n",
    "\n",
    "isinstance(usa, dm.Country)"
   ]
  },
  {
   "cell_type": "code",
   "execution_count": 20,
   "metadata": {},
   "outputs": [
    {
     "data": {
      "text/html": [
       "<div>\n",
       "<style scoped>\n",
       "    .dataframe tbody tr th:only-of-type {\n",
       "        vertical-align: middle;\n",
       "    }\n",
       "\n",
       "    .dataframe tbody tr th {\n",
       "        vertical-align: top;\n",
       "    }\n",
       "\n",
       "    .dataframe thead th {\n",
       "        text-align: right;\n",
       "    }\n",
       "</style>\n",
       "<table border=\"1\" class=\"dataframe\">\n",
       "  <thead>\n",
       "    <tr style=\"text-align: right;\">\n",
       "      <th></th>\n",
       "      <th>name</th>\n",
       "      <th>alias</th>\n",
       "      <th>col_id</th>\n",
       "      <th>col_name</th>\n",
       "      <th>feature_class_path</th>\n",
       "    </tr>\n",
       "  </thead>\n",
       "  <tbody>\n",
       "    <tr>\n",
       "      <th>0</th>\n",
       "      <td>block_groups</td>\n",
       "      <td>Block Groups</td>\n",
       "      <td>ID</td>\n",
       "      <td>NAME</td>\n",
       "      <td>D:\\arcgis\\ba_data\\Data\\Demographic Data\\USA_ES...</td>\n",
       "    </tr>\n",
       "    <tr>\n",
       "      <th>1</th>\n",
       "      <td>census_tracts</td>\n",
       "      <td>Census Tracts</td>\n",
       "      <td>ID</td>\n",
       "      <td>NAME</td>\n",
       "      <td>D:\\arcgis\\ba_data\\Data\\Demographic Data\\USA_ES...</td>\n",
       "    </tr>\n",
       "    <tr>\n",
       "      <th>2</th>\n",
       "      <td>cities_and_towns_places</td>\n",
       "      <td>Cities and Towns (Places)</td>\n",
       "      <td>ID</td>\n",
       "      <td>NAME</td>\n",
       "      <td>D:\\arcgis\\ba_data\\Data\\Demographic Data\\USA_ES...</td>\n",
       "    </tr>\n",
       "    <tr>\n",
       "      <th>3</th>\n",
       "      <td>zip_codes</td>\n",
       "      <td>ZIP Codes</td>\n",
       "      <td>ID</td>\n",
       "      <td>NAME</td>\n",
       "      <td>D:\\arcgis\\ba_data\\Data\\Demographic Data\\USA_ES...</td>\n",
       "    </tr>\n",
       "    <tr>\n",
       "      <th>4</th>\n",
       "      <td>county_subdivisions</td>\n",
       "      <td>County Subdivisions</td>\n",
       "      <td>ID</td>\n",
       "      <td>NAME</td>\n",
       "      <td>D:\\arcgis\\ba_data\\Data\\Demographic Data\\USA_ES...</td>\n",
       "    </tr>\n",
       "    <tr>\n",
       "      <th>5</th>\n",
       "      <td>counties</td>\n",
       "      <td>Counties</td>\n",
       "      <td>ID</td>\n",
       "      <td>NAME</td>\n",
       "      <td>D:\\arcgis\\ba_data\\Data\\Demographic Data\\USA_ES...</td>\n",
       "    </tr>\n",
       "    <tr>\n",
       "      <th>6</th>\n",
       "      <td>cbsas</td>\n",
       "      <td>CBSAs</td>\n",
       "      <td>ID</td>\n",
       "      <td>NAME</td>\n",
       "      <td>D:\\arcgis\\ba_data\\Data\\Demographic Data\\USA_ES...</td>\n",
       "    </tr>\n",
       "    <tr>\n",
       "      <th>7</th>\n",
       "      <td>congressional_districts</td>\n",
       "      <td>Congressional Districts</td>\n",
       "      <td>ID</td>\n",
       "      <td>NAME</td>\n",
       "      <td>D:\\arcgis\\ba_data\\Data\\Demographic Data\\USA_ES...</td>\n",
       "    </tr>\n",
       "    <tr>\n",
       "      <th>8</th>\n",
       "      <td>dmas</td>\n",
       "      <td>DMAs</td>\n",
       "      <td>ID</td>\n",
       "      <td>NAME</td>\n",
       "      <td>D:\\arcgis\\ba_data\\Data\\Demographic Data\\USA_ES...</td>\n",
       "    </tr>\n",
       "    <tr>\n",
       "      <th>9</th>\n",
       "      <td>states</td>\n",
       "      <td>States</td>\n",
       "      <td>ID</td>\n",
       "      <td>NAME</td>\n",
       "      <td>D:\\arcgis\\ba_data\\Data\\Demographic Data\\USA_ES...</td>\n",
       "    </tr>\n",
       "    <tr>\n",
       "      <th>10</th>\n",
       "      <td>entire_country</td>\n",
       "      <td>Entire Country</td>\n",
       "      <td>ID</td>\n",
       "      <td>NAME</td>\n",
       "      <td>D:\\arcgis\\ba_data\\Data\\Demographic Data\\USA_ES...</td>\n",
       "    </tr>\n",
       "  </tbody>\n",
       "</table>\n",
       "</div>"
      ],
      "text/plain": [
       "                       name                      alias col_id col_name  \\\n",
       "0              block_groups               Block Groups     ID     NAME   \n",
       "1             census_tracts              Census Tracts     ID     NAME   \n",
       "2   cities_and_towns_places  Cities and Towns (Places)     ID     NAME   \n",
       "3                 zip_codes                  ZIP Codes     ID     NAME   \n",
       "4       county_subdivisions        County Subdivisions     ID     NAME   \n",
       "5                  counties                   Counties     ID     NAME   \n",
       "6                     cbsas                      CBSAs     ID     NAME   \n",
       "7   congressional_districts    Congressional Districts     ID     NAME   \n",
       "8                      dmas                       DMAs     ID     NAME   \n",
       "9                    states                     States     ID     NAME   \n",
       "10           entire_country             Entire Country     ID     NAME   \n",
       "\n",
       "                                   feature_class_path  \n",
       "0   D:\\arcgis\\ba_data\\Data\\Demographic Data\\USA_ES...  \n",
       "1   D:\\arcgis\\ba_data\\Data\\Demographic Data\\USA_ES...  \n",
       "2   D:\\arcgis\\ba_data\\Data\\Demographic Data\\USA_ES...  \n",
       "3   D:\\arcgis\\ba_data\\Data\\Demographic Data\\USA_ES...  \n",
       "4   D:\\arcgis\\ba_data\\Data\\Demographic Data\\USA_ES...  \n",
       "5   D:\\arcgis\\ba_data\\Data\\Demographic Data\\USA_ES...  \n",
       "6   D:\\arcgis\\ba_data\\Data\\Demographic Data\\USA_ES...  \n",
       "7   D:\\arcgis\\ba_data\\Data\\Demographic Data\\USA_ES...  \n",
       "8   D:\\arcgis\\ba_data\\Data\\Demographic Data\\USA_ES...  \n",
       "9   D:\\arcgis\\ba_data\\Data\\Demographic Data\\USA_ES...  \n",
       "10  D:\\arcgis\\ba_data\\Data\\Demographic Data\\USA_ES...  "
      ]
     },
     "execution_count": 20,
     "metadata": {},
     "output_type": "execute_result"
    }
   ],
   "source": [
    "# get the geographic resolutions available for the country as a dataframe from smallest to largest\n",
    "geos = usa.geographies\n",
    "\n",
    "geos"
   ]
  },
  {
   "cell_type": "code",
   "execution_count": 28,
   "metadata": {},
   "outputs": [
    {
     "ename": "TypeError",
     "evalue": "descriptor 'mro' of 'type' object needs an argument",
     "output_type": "error",
     "traceback": [
      "\u001b[1;31m---------------------------------------------------------------------------\u001b[0m",
      "\u001b[1;31mTypeError\u001b[0m                                 Traceback (most recent call last)",
      "\u001b[1;32m<ipython-input-28-27d6c77350ba>\u001b[0m in \u001b[0;36m<module>\u001b[1;34m\u001b[0m\n\u001b[1;32m----> 1\u001b[1;33m \u001b[0mGeoAccessor\u001b[0m\u001b[1;33m.\u001b[0m\u001b[0m__class__\u001b[0m\u001b[1;33m.\u001b[0m\u001b[0mmro\u001b[0m\u001b[1;33m(\u001b[0m\u001b[1;33m)\u001b[0m\u001b[1;33m\u001b[0m\u001b[1;33m\u001b[0m\u001b[0m\n\u001b[0m",
      "\u001b[1;31mTypeError\u001b[0m: descriptor 'mro' of 'type' object needs an argument"
     ]
    }
   ],
   "source": [
    "usa.geographies.iloc[9].feature_class_path"
   ]
  },
  {
   "cell_type": "code",
   "execution_count": 6,
   "metadata": {},
   "outputs": [
    {
     "data": {
      "text/html": [
       "<div>\n",
       "<style scoped>\n",
       "    .dataframe tbody tr th:only-of-type {\n",
       "        vertical-align: middle;\n",
       "    }\n",
       "\n",
       "    .dataframe tbody tr th {\n",
       "        vertical-align: top;\n",
       "    }\n",
       "\n",
       "    .dataframe thead th {\n",
       "        text-align: right;\n",
       "    }\n",
       "</style>\n",
       "<table border=\"1\" class=\"dataframe\">\n",
       "  <thead>\n",
       "    <tr style=\"text-align: right;\">\n",
       "      <th></th>\n",
       "      <th>ID</th>\n",
       "      <th>NAME</th>\n",
       "      <th>SHAPE</th>\n",
       "    </tr>\n",
       "  </thead>\n",
       "  <tbody>\n",
       "    <tr>\n",
       "      <th>0</th>\n",
       "      <td>150010201001</td>\n",
       "      <td>150010201.001</td>\n",
       "      <td>{\"rings\": [[[-17265507.1935, 2249488.050099998...</td>\n",
       "    </tr>\n",
       "    <tr>\n",
       "      <th>1</th>\n",
       "      <td>150010201002</td>\n",
       "      <td>150010201.002</td>\n",
       "      <td>{\"rings\": [[[-17266206.28, 2257608.5769000016]...</td>\n",
       "    </tr>\n",
       "    <tr>\n",
       "      <th>2</th>\n",
       "      <td>150010201003</td>\n",
       "      <td>150010201.003</td>\n",
       "      <td>{\"rings\": [[[-17264567.657, 2249850.0975], [-1...</td>\n",
       "    </tr>\n",
       "    <tr>\n",
       "      <th>3</th>\n",
       "      <td>150010201004</td>\n",
       "      <td>150010201.004</td>\n",
       "      <td>{\"rings\": [[[-17264343.9048, 2246722.049199998...</td>\n",
       "    </tr>\n",
       "    <tr>\n",
       "      <th>4</th>\n",
       "      <td>150010202021</td>\n",
       "      <td>150010202.021</td>\n",
       "      <td>{\"rings\": [[[-17264970.6029, 2244290.0187], [-...</td>\n",
       "    </tr>\n",
       "  </tbody>\n",
       "</table>\n",
       "</div>"
      ],
      "text/plain": [
       "             ID           NAME  \\\n",
       "0  150010201001  150010201.001   \n",
       "1  150010201002  150010201.002   \n",
       "2  150010201003  150010201.003   \n",
       "3  150010201004  150010201.004   \n",
       "4  150010202021  150010202.021   \n",
       "\n",
       "                                               SHAPE  \n",
       "0  {\"rings\": [[[-17265507.1935, 2249488.050099998...  \n",
       "1  {\"rings\": [[[-17266206.28, 2257608.5769000016]...  \n",
       "2  {\"rings\": [[[-17264567.657, 2249850.0975], [-1...  \n",
       "3  {\"rings\": [[[-17264343.9048, 2246722.049199998...  \n",
       "4  {\"rings\": [[[-17264970.6029, 2244290.0187], [-...  "
      ]
     },
     "execution_count": 6,
     "metadata": {},
     "output_type": "execute_result"
    }
   ],
   "source": [
    "# select the lowest geographic resolution available for the most granular analysis\n",
    "\n",
    "# ...by index...\n",
    "geo_0_df = usa.get_geography(0)\n",
    "\n",
    "geo_0_df.head()"
   ]
  },
  {
   "cell_type": "code",
   "execution_count": null,
   "metadata": {},
   "outputs": [],
   "source": [
    "# ...by name\n",
    "geo0_df = usa.get_geography('block_group')\n",
    "\n",
    "geo0_df.head()"
   ]
  },
  {
   "cell_type": "code",
   "execution_count": 67,
   "metadata": {},
   "outputs": [
    {
     "data": {
      "text/html": [
       "<div>\n",
       "<style scoped>\n",
       "    .dataframe tbody tr th:only-of-type {\n",
       "        vertical-align: middle;\n",
       "    }\n",
       "\n",
       "    .dataframe tbody tr th {\n",
       "        vertical-align: top;\n",
       "    }\n",
       "\n",
       "    .dataframe thead th {\n",
       "        text-align: right;\n",
       "    }\n",
       "</style>\n",
       "<table border=\"1\" class=\"dataframe\">\n",
       "  <thead>\n",
       "    <tr style=\"text-align: right;\">\n",
       "      <th></th>\n",
       "      <th>ID</th>\n",
       "      <th>NAME</th>\n",
       "      <th>SHAPE</th>\n",
       "    </tr>\n",
       "  </thead>\n",
       "  <tbody>\n",
       "    <tr>\n",
       "      <th>0</th>\n",
       "      <td>42660</td>\n",
       "      <td>Seattle-Tacoma-Bellevue, WA Metropolitan Stati...</td>\n",
       "      <td>{\"rings\": [[[-13651055.7226, 5968866.240900002...</td>\n",
       "    </tr>\n",
       "  </tbody>\n",
       "</table>\n",
       "</div>"
      ],
      "text/plain": [
       "      ID                                               NAME  \\\n",
       "0  42660  Seattle-Tacoma-Bellevue, WA Metropolitan Stati...   \n",
       "\n",
       "                                               SHAPE  \n",
       "0  {\"rings\": [[[-13651055.7226, 5968866.240900002...  "
      ]
     },
     "execution_count": 67,
     "metadata": {},
     "output_type": "execute_result"
    }
   ],
   "source": [
    "# get the area of interest by filtering a larger geography\n",
    "aoi_df = usa.get_geography('cbsa', selector='Seattle')\n",
    "\n",
    "aoi_df.head()"
   ]
  },
  {
   "cell_type": "code",
   "execution_count": null,
   "metadata": {},
   "outputs": [],
   "source": [
    "# get the block groups in the area of interest\n",
    "origin_geo_df = geo_df.spatial.within(aoi)"
   ]
  },
  {
   "cell_type": "markdown",
   "metadata": {},
   "source": [
    "# Get Locations"
   ]
  },
  {
   "cell_type": "code",
   "execution_count": null,
   "metadata": {},
   "outputs": [],
   "source": [
    "# get the store locations from the business listings\n",
    "loc_brand_df = usa.business.search('Ace Hardware')\n",
    "\n",
    "# ...and since returning a sptatially enabled dataframe, can use spatial.to_featureclass to save directly with function chaining\n",
    "usa.business.search('Ace Hardware').spatial.to_featureclass(gdb_int/'loc_brand')\n",
    "\n",
    "loc_brand_df.head()"
   ]
  },
  {
   "cell_type": "code",
   "execution_count": null,
   "metadata": {},
   "outputs": [],
   "source": [
    "# get all the competitors for the area of interest\n",
    "\n",
    "# ...by NAICS or SIC code...\n",
    "loc_comp_df = usa.business.get_competitors(\n",
    "    code=44413005,  # include ablity to specify shorted codes since NAICS codes can be shorter to be more general\n",
    "    code_type='NAICS', \n",
    "    brand_exclude='Ace Hardware'\n",
    ")\n",
    "\n",
    "# ...or simplly by looking up using the existing location brand layer as a template\n",
    "loc_comp_df = usa.business.get_competitors(brand_locations=loc_brand_df)\n",
    "\n",
    "# ...and since returning a sptatially enabled dataframe, can use spatial.to_featureclass to save directly with function chaining\n",
    "usa.business.get_competitors(brand_locations=loc_brand_df).spatial.to_featureclass(gdb_int/'loc_comp')"
   ]
  },
  {
   "cell_type": "markdown",
   "metadata": {},
   "source": [
    "# Calculate Proximity Metrics"
   ]
  },
  {
   "cell_type": "code",
   "execution_count": null,
   "metadata": {},
   "outputs": [],
   "source": [
    "# calculate the origin to nth destinations table for brand locations\n",
    "prox_df_brand = dm.proximity.get_neareset_nth_locations(\n",
    "    origin_features=orgin_geo_df,\n",
    "    origin_id_column='ID',                                      \n",
    "    origin_centroid_weighting_features='path-to-block-points',  # features used to calculate a population weighted centroid location for routing\n",
    "    origin_centroid_weighting_column='POP',                     # used to weight each population feature for centroid calculation\n",
    "    destination_locations=loc_brand_df,\n",
    "    destination_id_column='STORE_ID'\n",
    "    destination_brand_or_concept_column='STORE_CONCEPT',              # think Nike Outlet versus Nike Brand Store\n",
    ")"
   ]
  },
  {
   "cell_type": "code",
   "execution_count": null,
   "metadata": {},
   "outputs": [],
   "source": [
    "# calculate the origin to nth destinations table for brand locations\n",
    "prox_df_brand = dm.proximity.get_neareset_nth_locations(\n",
    "    origin_features=orgin_geo_df,\n",
    "    origin_id_column='ID',                                      \n",
    "    origin_centroid_weighting_features='path-to-block-points',  # features used to calculate a population weighted centroid location for routing\n",
    "    origin_centroid_weighting_column='POP',                     # used to weight each population feature for centroid calculation\n",
    "    destination_locations=loc_comp_df,\n",
    "    destination_id_column='LOCNUM'\n",
    "    destination_brand_or_concept_column='CONAME',               # think Nike Outlet versus Nike Brand Store\n",
    ")\n",
    "\n",
    "# ...and can even chain to create output using dataframe to_... functions\n",
    "prox_df_brand = dm.proximity.get_neareset_nth_locations(orgin_geo_df, 'ID', 'path-to-block-points', 'POP', loc_comp_df, 'LOCNUM', 'CONAME').to_csv('prox_df_brand.csv')"
   ]
  },
  {
   "cell_type": "markdown",
   "metadata": {},
   "source": [
    "# Enrich"
   ]
  }
 ],
 "metadata": {
  "kernelspec": {
   "display_name": "Python 3",
   "language": "python",
   "name": "python3"
  },
  "language_info": {
   "codemirror_mode": {
    "name": "ipython",
    "version": 3
   },
   "file_extension": ".py",
   "mimetype": "text/x-python",
   "name": "python",
   "nbconvert_exporter": "python",
   "pygments_lexer": "ipython3",
   "version": "3.6.10"
  },
  "pycharm": {
   "stem_cell": {
    "cell_type": "raw",
    "metadata": {
     "collapsed": false
    },
    "source": []
   }
  }
 },
 "nbformat": 4,
 "nbformat_minor": 4
}
