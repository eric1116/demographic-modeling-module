{
 "cells": [
  {
   "cell_type": "code",
   "execution_count": 1,
   "metadata": {},
   "outputs": [
    {
     "name": "stderr",
     "output_type": "stream",
     "text": [
      "D:\\projects\\demographic-modeling-module\\src\\dm\\_modify_geoaccessor.py:31: UserWarning: registration of accessor <class 'dm._modify_geoaccessor.GeoAccessorIO'> under name 'spatial' for type <class 'pandas.core.frame.DataFrame'> is overriding a preexistingattribute with the same name.\n",
      "  class GeoAccessorIO(GeoAccessor):\n"
     ]
    }
   ],
   "source": [
    "from pathlib import Path\n",
    "import sys\n",
    "\n",
    "project_parent = Path('./').absolute().parent\n",
    "sys.path.append(str(project_parent/'src'))\n",
    "from dm import Country, util"
   ]
  },
  {
   "cell_type": "code",
   "execution_count": 2,
   "metadata": {},
   "outputs": [
    {
     "data": {
      "text/html": [
       "<div>\n",
       "<style scoped>\n",
       "    .dataframe tbody tr th:only-of-type {\n",
       "        vertical-align: middle;\n",
       "    }\n",
       "\n",
       "    .dataframe tbody tr th {\n",
       "        vertical-align: top;\n",
       "    }\n",
       "\n",
       "    .dataframe thead th {\n",
       "        text-align: right;\n",
       "    }\n",
       "</style>\n",
       "<table border=\"1\" class=\"dataframe\">\n",
       "  <thead>\n",
       "    <tr style=\"text-align: right;\">\n",
       "      <th></th>\n",
       "      <th>geo_ref</th>\n",
       "      <th>country</th>\n",
       "      <th>year</th>\n",
       "    </tr>\n",
       "  </thead>\n",
       "  <tbody>\n",
       "    <tr>\n",
       "      <th>0</th>\n",
       "      <td>CAN_ESRI_2019</td>\n",
       "      <td>CAN</td>\n",
       "      <td>2019</td>\n",
       "    </tr>\n",
       "    <tr>\n",
       "      <th>1</th>\n",
       "      <td>USA_ESRI_2019</td>\n",
       "      <td>USA</td>\n",
       "      <td>2019</td>\n",
       "    </tr>\n",
       "  </tbody>\n",
       "</table>\n",
       "</div>"
      ],
      "text/plain": [
       "         geo_ref country  year\n",
       "0  CAN_ESRI_2019     CAN  2019\n",
       "1  USA_ESRI_2019     USA  2019"
      ]
     },
     "execution_count": 2,
     "metadata": {},
     "output_type": "execute_result"
    }
   ],
   "source": [
    "util.get_countries()"
   ]
  },
  {
   "cell_type": "code",
   "execution_count": 3,
   "metadata": {},
   "outputs": [
    {
     "data": {
      "text/plain": [
       "<class: Country - CAN (local)>"
      ]
     },
     "execution_count": 3,
     "metadata": {},
     "output_type": "execute_result"
    }
   ],
   "source": [
    "can = Country('CAN')\n",
    "\n",
    "can"
   ]
  },
  {
   "cell_type": "code",
   "execution_count": 4,
   "metadata": {},
   "outputs": [
    {
     "data": {
      "text/html": [
       "<div>\n",
       "<style scoped>\n",
       "    .dataframe tbody tr th:only-of-type {\n",
       "        vertical-align: middle;\n",
       "    }\n",
       "\n",
       "    .dataframe tbody tr th {\n",
       "        vertical-align: top;\n",
       "    }\n",
       "\n",
       "    .dataframe thead th {\n",
       "        text-align: right;\n",
       "    }\n",
       "</style>\n",
       "<table border=\"1\" class=\"dataframe\">\n",
       "  <thead>\n",
       "    <tr style=\"text-align: right;\">\n",
       "      <th></th>\n",
       "      <th>geo_name</th>\n",
       "      <th>geo_alias</th>\n",
       "      <th>col_id</th>\n",
       "      <th>col_name</th>\n",
       "      <th>feature_class_path</th>\n",
       "    </tr>\n",
       "  </thead>\n",
       "  <tbody>\n",
       "    <tr>\n",
       "      <th>0</th>\n",
       "      <td>disseminationareas</td>\n",
       "      <td>DisseminationAreas</td>\n",
       "      <td>ID</td>\n",
       "      <td>NAME</td>\n",
       "      <td>D:\\ba_data\\can\\Data\\Demographic Data\\CAN_ESRI_...</td>\n",
       "    </tr>\n",
       "    <tr>\n",
       "      <th>1</th>\n",
       "      <td>censustracts</td>\n",
       "      <td>CensusTracts</td>\n",
       "      <td>ID</td>\n",
       "      <td>NAME</td>\n",
       "      <td>D:\\ba_data\\can\\Data\\Demographic Data\\CAN_ESRI_...</td>\n",
       "    </tr>\n",
       "    <tr>\n",
       "      <th>2</th>\n",
       "      <td>fsas</td>\n",
       "      <td>FSAs</td>\n",
       "      <td>ID</td>\n",
       "      <td>NAME</td>\n",
       "      <td>D:\\ba_data\\can\\Data\\Demographic Data\\CAN_ESRI_...</td>\n",
       "    </tr>\n",
       "    <tr>\n",
       "      <th>3</th>\n",
       "      <td>censussubdivisions</td>\n",
       "      <td>CensusSubdivisions</td>\n",
       "      <td>ID</td>\n",
       "      <td>NAME</td>\n",
       "      <td>D:\\ba_data\\can\\Data\\Demographic Data\\CAN_ESRI_...</td>\n",
       "    </tr>\n",
       "    <tr>\n",
       "      <th>4</th>\n",
       "      <td>feds</td>\n",
       "      <td>FEDs</td>\n",
       "      <td>ID</td>\n",
       "      <td>NAME</td>\n",
       "      <td>D:\\ba_data\\can\\Data\\Demographic Data\\CAN_ESRI_...</td>\n",
       "    </tr>\n",
       "    <tr>\n",
       "      <th>5</th>\n",
       "      <td>cmacas</td>\n",
       "      <td>CMACAs</td>\n",
       "      <td>ID</td>\n",
       "      <td>NAME</td>\n",
       "      <td>D:\\ba_data\\can\\Data\\Demographic Data\\CAN_ESRI_...</td>\n",
       "    </tr>\n",
       "    <tr>\n",
       "      <th>6</th>\n",
       "      <td>censusdivisions</td>\n",
       "      <td>CensusDivisions</td>\n",
       "      <td>ID</td>\n",
       "      <td>NAME</td>\n",
       "      <td>D:\\ba_data\\can\\Data\\Demographic Data\\CAN_ESRI_...</td>\n",
       "    </tr>\n",
       "    <tr>\n",
       "      <th>7</th>\n",
       "      <td>provinceterritories</td>\n",
       "      <td>ProvinceTerritories</td>\n",
       "      <td>ID</td>\n",
       "      <td>NAME</td>\n",
       "      <td>D:\\ba_data\\can\\Data\\Demographic Data\\CAN_ESRI_...</td>\n",
       "    </tr>\n",
       "    <tr>\n",
       "      <th>8</th>\n",
       "      <td>country</td>\n",
       "      <td>Country</td>\n",
       "      <td>ID</td>\n",
       "      <td>NAME</td>\n",
       "      <td>D:\\ba_data\\can\\Data\\Demographic Data\\CAN_ESRI_...</td>\n",
       "    </tr>\n",
       "  </tbody>\n",
       "</table>\n",
       "</div>"
      ],
      "text/plain": [
       "              geo_name            geo_alias col_id col_name  \\\n",
       "0   disseminationareas   DisseminationAreas     ID     NAME   \n",
       "1         censustracts         CensusTracts     ID     NAME   \n",
       "2                 fsas                 FSAs     ID     NAME   \n",
       "3   censussubdivisions   CensusSubdivisions     ID     NAME   \n",
       "4                 feds                 FEDs     ID     NAME   \n",
       "5               cmacas               CMACAs     ID     NAME   \n",
       "6      censusdivisions      CensusDivisions     ID     NAME   \n",
       "7  provinceterritories  ProvinceTerritories     ID     NAME   \n",
       "8              country              Country     ID     NAME   \n",
       "\n",
       "                                  feature_class_path  \n",
       "0  D:\\ba_data\\can\\Data\\Demographic Data\\CAN_ESRI_...  \n",
       "1  D:\\ba_data\\can\\Data\\Demographic Data\\CAN_ESRI_...  \n",
       "2  D:\\ba_data\\can\\Data\\Demographic Data\\CAN_ESRI_...  \n",
       "3  D:\\ba_data\\can\\Data\\Demographic Data\\CAN_ESRI_...  \n",
       "4  D:\\ba_data\\can\\Data\\Demographic Data\\CAN_ESRI_...  \n",
       "5  D:\\ba_data\\can\\Data\\Demographic Data\\CAN_ESRI_...  \n",
       "6  D:\\ba_data\\can\\Data\\Demographic Data\\CAN_ESRI_...  \n",
       "7  D:\\ba_data\\can\\Data\\Demographic Data\\CAN_ESRI_...  \n",
       "8  D:\\ba_data\\can\\Data\\Demographic Data\\CAN_ESRI_...  "
      ]
     },
     "execution_count": 4,
     "metadata": {},
     "output_type": "execute_result"
    }
   ],
   "source": [
    "can.geographies"
   ]
  },
  {
   "cell_type": "code",
   "execution_count": null,
   "metadata": {},
   "outputs": [],
   "source": [
    "metro_df = can.cmacas.get('vancouver')\n",
    "\n",
    "metro_df"
   ]
  },
  {
   "cell_type": "code",
   "execution_count": null,
   "metadata": {},
   "outputs": [],
   "source": [
    "lvl0_df = metro_df.level(0).get()\n",
    "\n",
    "lvl0_df.info()"
   ]
  },
  {
   "cell_type": "code",
   "execution_count": null,
   "metadata": {},
   "outputs": [],
   "source": [
    "lvl0_df.head()"
   ]
  },
  {
   "cell_type": "code",
   "execution_count": null,
   "metadata": {},
   "outputs": [],
   "source": [
    "lvl0_df.spatial.plot()"
   ]
  },
  {
   "cell_type": "code",
   "execution_count": null,
   "metadata": {},
   "outputs": [],
   "source": [
    "e_vars = can.enrich_variables\n",
    "\n",
    "e_vars"
   ]
  },
  {
   "cell_type": "code",
   "execution_count": null,
   "metadata": {},
   "outputs": [],
   "source": [
    "key_vars = e_vars[(e_vars.data_collection.str.startswith('Key')) & (e_vars.vintage == '2022')]\n",
    "\n",
    "key_vars"
   ]
  },
  {
   "cell_type": "code",
   "execution_count": null,
   "metadata": {},
   "outputs": [],
   "source": [
    "enrich_vars = key_vars.enrich_str\n",
    "\n",
    "enrich_vars"
   ]
  },
  {
   "cell_type": "code",
   "execution_count": null,
   "metadata": {},
   "outputs": [],
   "source": [
    "lvl0_enrich_df = lvl0_df.spatial.enrich(enrich_vars)\n",
    "\n",
    "lvl0_enrich_df.info()"
   ]
  },
  {
   "cell_type": "code",
   "execution_count": null,
   "metadata": {},
   "outputs": [],
   "source": [
    "lvl0_enrich_df.head()"
   ]
  },
  {
   "cell_type": "code",
   "execution_count": null,
   "metadata": {},
   "outputs": [],
   "source": [
    "lvl0_enrich_df.spatial.to_parquet('../data/interim/vancouver_lvl0_enrich.parquet')"
   ]
  },
  {
   "cell_type": "code",
   "execution_count": null,
   "metadata": {},
   "outputs": [],
   "source": [
    "lvl0_fc = '../data/interim/interim.gdb/vancouver_lvl0_enrich'\n",
    "lvl0_enrich_df.spatial.to_featureclass(lvl0_fc)\n",
    "util.add_enrich_aliases(lvl0_fc, can)"
   ]
  },
  {
   "cell_type": "code",
   "execution_count": null,
   "metadata": {},
   "outputs": [],
   "source": []
  }
 ],
 "metadata": {
  "kernelspec": {
   "display_name": "Python 3",
   "language": "python",
   "name": "python3"
  },
  "language_info": {
   "codemirror_mode": {
    "name": "ipython",
    "version": 3
   },
   "file_extension": ".py",
   "mimetype": "text/x-python",
   "name": "python",
   "nbconvert_exporter": "python",
   "pygments_lexer": "ipython3",
   "version": "3.6.10"
  }
 },
 "nbformat": 4,
 "nbformat_minor": 4
}
